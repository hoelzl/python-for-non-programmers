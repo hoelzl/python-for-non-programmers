{
 "cells": [
  {
   "cell_type": "markdown",
   "metadata": {},
   "source": [
    "# Operators, Comparisons\n",
    "\n",
    "Is $2^{16}$ greater than $32\\,000\\,\\,/\\,\\,2$?"
   ]
  },
  {
   "cell_type": "code",
   "execution_count": 12,
   "metadata": {},
   "outputs": [
    {
     "data": {
      "text/plain": [
       "True"
      ]
     },
     "execution_count": 12,
     "metadata": {},
     "output_type": "execute_result"
    }
   ],
   "source": [
    "(2 ** 16) > (32_000 / 2)"
   ]
  },
  {
   "cell_type": "markdown",
   "metadata": {},
   "source": [
    "Is $72$ divisible by $3$ (without rest)?"
   ]
  },
  {
   "cell_type": "code",
   "execution_count": 13,
   "metadata": {},
   "outputs": [
    {
     "data": {
      "text/plain": [
       "True"
      ]
     },
     "execution_count": 13,
     "metadata": {},
     "output_type": "execute_result"
    }
   ],
   "source": [
    "72 % 3 == 0"
   ]
  },
  {
   "cell_type": "markdown",
   "metadata": {},
   "source": [
    "Is $72$ an even number (i.e., divisible by 2)?"
   ]
  },
  {
   "cell_type": "code",
   "execution_count": 14,
   "metadata": {},
   "outputs": [
    {
     "data": {
      "text/plain": [
       "True"
      ]
     },
     "execution_count": 14,
     "metadata": {},
     "output_type": "execute_result"
    }
   ],
   "source": [
    "72 % 2 == 0 "
   ]
  },
  {
   "cell_type": "markdown",
   "metadata": {},
   "source": [
    "Write a function `is_divisible_by(m, n)` that returns `True` if (and only if) `m` is divisible by `n`."
   ]
  },
  {
   "cell_type": "code",
   "execution_count": 15,
   "metadata": {},
   "outputs": [
    {
     "data": {
      "text/plain": [
       "False"
      ]
     },
     "execution_count": 15,
     "metadata": {},
     "output_type": "execute_result"
    }
   ],
   "source": [
    "def is_divisible_by(m, n):\n",
    "    return m % n == 0\n",
    "\n",
    "is_divisible_by(7, 2)"
   ]
  },
  {
   "cell_type": "markdown",
   "metadata": {},
   "source": [
    "Write a function `is_divisible_by_2_and_3(n)`, that returns `True` if (and only if) `n` is divisible by $2$ and $3$. "
   ]
  },
  {
   "cell_type": "code",
   "execution_count": 16,
   "metadata": {},
   "outputs": [],
   "source": [
    "def is_divisible_by_2_and_3(n):\n",
    "    return is_divisible_by(n, 2) and is_divisible_by(n, 3)"
   ]
  },
  {
   "cell_type": "code",
   "execution_count": 17,
   "metadata": {},
   "outputs": [],
   "source": [
    "def is_divisible_by_2_and_3_v2(n):\n",
    "    return n % 6 == 0"
   ]
  },
  {
   "cell_type": "markdown",
   "metadata": {},
   "source": [
    "Check whether $72$ is divisible by $2$ and $3$."
   ]
  },
  {
   "cell_type": "code",
   "execution_count": 18,
   "metadata": {
    "pycharm": {
     "name": "#%%\n"
    }
   },
   "outputs": [
    {
     "data": {
      "text/plain": [
       "True"
      ]
     },
     "execution_count": 18,
     "metadata": {},
     "output_type": "execute_result"
    }
   ],
   "source": [
    "is_divisible_by_2_and_3(72)\n"
   ]
  },
  {
   "cell_type": "markdown",
   "metadata": {
    "collapsed": true,
    "pycharm": {
     "name": "#%% md\n"
    }
   },
   "source": [
    "# Full Age\n",
    "\n",
    "Write a function `is_of_age(age)`, that returns `True` if `age` $\\geq 18$ and `False` otherwise"
   ]
  },
  {
   "cell_type": "code",
   "execution_count": 19,
   "metadata": {
    "pycharm": {
     "name": "#%%\n"
    }
   },
   "outputs": [],
   "source": [
    "def is_of_age(age):\n",
    "    if age < 18:\n",
    "        return False\n",
    "    else:\n",
    "        return True"
   ]
  },
  {
   "cell_type": "markdown",
   "metadata": {},
   "source": [
    "Test `is_of_age(age)` with values 17 and 18."
   ]
  },
  {
   "cell_type": "code",
   "execution_count": 20,
   "metadata": {
    "pycharm": {
     "name": "#%%\n"
    }
   },
   "outputs": [
    {
     "data": {
      "text/plain": [
       "False"
      ]
     },
     "execution_count": 20,
     "metadata": {},
     "output_type": "execute_result"
    }
   ],
   "source": [
    "is_of_age(17)"
   ]
  },
  {
   "cell_type": "code",
   "execution_count": 21,
   "metadata": {
    "pycharm": {
     "name": "#%%\n"
    }
   },
   "outputs": [
    {
     "data": {
      "text/plain": [
       "True"
      ]
     },
     "execution_count": 21,
     "metadata": {},
     "output_type": "execute_result"
    }
   ],
   "source": [
    "is_of_age(18)"
   ]
  },
  {
   "cell_type": "markdown",
   "metadata": {},
   "source": [
    "A better way to write this function:"
   ]
  },
  {
   "cell_type": "code",
   "execution_count": 22,
   "metadata": {},
   "outputs": [],
   "source": [
    "def is_of_age_2(age):\n",
    "    return age >= 18"
   ]
  },
  {
   "cell_type": "code",
   "execution_count": 23,
   "metadata": {},
   "outputs": [
    {
     "data": {
      "text/plain": [
       "False"
      ]
     },
     "execution_count": 23,
     "metadata": {},
     "output_type": "execute_result"
    }
   ],
   "source": [
    "is_of_age_2(17)"
   ]
  },
  {
   "cell_type": "code",
   "execution_count": 24,
   "metadata": {},
   "outputs": [
    {
     "data": {
      "text/plain": [
       "True"
      ]
     },
     "execution_count": 24,
     "metadata": {},
     "output_type": "execute_result"
    }
   ],
   "source": [
    "is_of_age_2(18)"
   ]
  },
  {
   "cell_type": "markdown",
   "metadata": {
    "collapsed": true,
    "pycharm": {
     "name": "#%% md\n"
    }
   },
   "source": [
    "# Printing Full Age\n",
    "\n",
    "Write a function `print_is_of_age(age)`, that prints `<age> is of age` if `age` $\\geq 18$ and `<age> is not of age` otherwise."
   ]
  },
  {
   "cell_type": "code",
   "execution_count": 37,
   "metadata": {
    "pycharm": {
     "name": "#%%\n"
    }
   },
   "outputs": [],
   "source": [
    "def print_is_of_age(age):\n",
    "    if age >= 18:\n",
    "        print(age, \"is of age\")\n",
    "    else:\n",
    "        print(age, \"is not of age\")"
   ]
  },
  {
   "cell_type": "markdown",
   "metadata": {},
   "source": [
    "Test `print_is_of_age(age)` with values 17 and 18."
   ]
  },
  {
   "cell_type": "code",
   "execution_count": 38,
   "metadata": {
    "pycharm": {
     "name": "#%%\n"
    }
   },
   "outputs": [
    {
     "name": "stdout",
     "output_type": "stream",
     "text": [
      "17 is not of age\n"
     ]
    }
   ],
   "source": [
    "print_is_of_age(17)"
   ]
  },
  {
   "cell_type": "code",
   "execution_count": 40,
   "metadata": {
    "pycharm": {
     "name": "#%%\n"
    }
   },
   "outputs": [
    {
     "name": "stdout",
     "output_type": "stream",
     "text": [
      "18 is of age\n"
     ]
    }
   ],
   "source": [
    "print_is_of_age(18)"
   ]
  },
  {
   "cell_type": "markdown",
   "metadata": {
    "lang": "en"
   },
   "source": [
    "# Print Greeting (part 1)\n",
    "\n",
    "Write a function `print_greeting(name)` that prints a personalized greeting, e.g.\n",
    "```\n",
    "Hello Hans!\n",
    "Nice to see you again today.\n",
    "We wish you a lot of fun, Hans.\n",
    "```\n",
    "Use the `print()` function with one argument and string concatenation."
   ]
  },
  {
   "cell_type": "code",
   "execution_count": 58,
   "metadata": {},
   "outputs": [],
   "source": [
    "def print_greeting(name):\n",
    "    print('Hello, ' + name + '!')\n",
    "    print('Nice to see you again today.')\n",
    "    print('We wish you a lot of fun, ' + name + '.')"
   ]
  },
  {
   "cell_type": "code",
   "execution_count": 59,
   "metadata": {
    "scrolled": true
   },
   "outputs": [
    {
     "name": "stdout",
     "output_type": "stream",
     "text": [
      "Hello, Hans!\n",
      "Nice to see you again today.\n",
      "We wish you a lot of fun, Hans.\n"
     ]
    }
   ],
   "source": [
    "print_greeting('Hans')"
   ]
  },
  {
   "cell_type": "markdown",
   "metadata": {},
   "source": [
    "# Print Greeting (part 2)\n",
    "\n",
    "Rewrite the function `print_greeting(name)` from the first part using f-strings."
   ]
  },
  {
   "cell_type": "code",
   "execution_count": 60,
   "metadata": {},
   "outputs": [],
   "source": [
    "def print_greeting(name):\n",
    "    print(f\"Hello, {name}!\")\n",
    "    print(f\"Nice to see you again today.\")\n",
    "    print(f\"We wish you a lot of fun, {name}.\")"
   ]
  },
  {
   "cell_type": "code",
   "execution_count": 61,
   "metadata": {},
   "outputs": [
    {
     "name": "stdout",
     "output_type": "stream",
     "text": [
      "Hello, Jack!\n",
      "Nice to see you again today.\n",
      "We wish you a lot of fun, Jack.\n"
     ]
    }
   ],
   "source": [
    "print_greeting(\"Jack\")"
   ]
  },
  {
   "cell_type": "markdown",
   "metadata": {
    "lang": "en"
   },
   "source": [
    "# Pirates, part 4\n",
    "\n",
    "In previous exercises we printed out the booty allocation for our gang of pirates in a rather verbose format.\n",
    "Since the lockdown has negatively impacted the booty we captur, we can no longer afford to use so much paper for our daily reports.\n",
    "\n",
    "Implement a new version of the function `print_distribution_of_booty(doubloons, pirates)` that outputs a summary in the following form:\n",
    "\n",
    "```\n",
    "Each of the 8 pirates receives 2 of the 17 gold doubloons. The captain receives an extra 1 gold doubloon(s).\n",
    "```\n",
    "Use F-strings to generate the output text. To compute the number of gold doubloons each pirate receives as well as the additional doubloons for the captain, you can use the following function:"
   ]
  },
  {
   "cell_type": "code",
   "execution_count": 62,
   "metadata": {},
   "outputs": [],
   "source": [
    "def split_booty(doubloons, pirates):\n",
    "    return divmod(doubloons, pirates)"
   ]
  },
  {
   "cell_type": "code",
   "execution_count": 63,
   "metadata": {},
   "outputs": [
    {
     "name": "stdout",
     "output_type": "stream",
     "text": [
      "Each pirate receives 2 doubloons.\n",
      "The captain receives 1 doubloons extra.\n"
     ]
    }
   ],
   "source": [
    "doubloons_per_pirate, additional_doubloons_captain = split_booty(17, 8)\n",
    "print(\"Each pirate receives\", doubloons_per_pirate, \"doubloons.\")\n",
    "print(\"The captain receives\", additional_doubloons_captain, \"doubloons extra.\")"
   ]
  },
  {
   "cell_type": "code",
   "execution_count": 76,
   "metadata": {},
   "outputs": [],
   "source": [
    "def print_distribution_of_booty(doubloons, pirates):\n",
    "    doubloons_per_pirate, additional_doubloons_captain = split_booty(doubloons, pirates)\n",
    "    print(f'Each of the {pirates} pirates receives '\n",
    "          f'{doubloons_per_pirate} of the {doubloons} gold doubloons. '\n",
    "          f'The captain receives an extra {additional_doubloons_captain} '\n",
    "          f'gold doubloon(s).')"
   ]
  },
  {
   "cell_type": "code",
   "execution_count": 77,
   "metadata": {},
   "outputs": [
    {
     "name": "stdout",
     "output_type": "stream",
     "text": [
      "Each of the 8 pirates receives 2 of the 16 gold doubloons. The captain receives an extra 0 gold doubloon(s).\n",
      "Each of the 8 pirates receives 2 of the 17 gold doubloons. The captain receives an extra 1 gold doubloon(s).\n",
      "Each of the 8 pirates receives 2 of the 18 gold doubloons. The captain receives an extra 2 gold doubloon(s).\n",
      "Each of the 8 pirates receives 2 of the 19 gold doubloons. The captain receives an extra 3 gold doubloon(s).\n"
     ]
    }
   ],
   "source": [
    "print_distribution_of_booty(16, 8)\n",
    "print_distribution_of_booty(17, 8)\n",
    "print_distribution_of_booty(18, 8)\n",
    "print_distribution_of_booty(19, 8)"
   ]
  },
  {
   "cell_type": "markdown",
   "metadata": {
    "lang": "en"
   },
   "source": [
    "For bonus booty from the next haul of your pirate gang, improve the output so that it correctly handles the case where the captain receives one additional gold doubloon:\n",
    "\n",
    "```\n",
    "Each of the 8 pirates receives 2 of the 17 gold doubloons. The captain receives one extra gold doubloon.\n",
    "Each of the 8 pirates receives 2 of the 18 gold doubloons. The captain receives an extra 2 gold doubloons.\n",
    "```\n",
    "\n",
    "*Note:* The `print()` function has a keyword argument `end` that determines the string printed at the end of the line, that may prove helpful:"
   ]
  },
  {
   "cell_type": "code",
   "execution_count": 80,
   "metadata": {},
   "outputs": [
    {
     "name": "stdout",
     "output_type": "stream",
     "text": [
      "Several print statements --- one line of output.\n"
     ]
    }
   ],
   "source": [
    "print(\"Several \", end=\"\")\n",
    "print(\"print statements\", end=\" --- \")\n",
    "print(\"one line \", end=\"\")\n",
    "print(\"of output.\")"
   ]
  },
  {
   "cell_type": "code",
   "execution_count": 81,
   "metadata": {},
   "outputs": [],
   "source": [
    "def print_distribution_of_booty(doubloons, pirates):\n",
    "    doubloons_per_pirate, additional_doubloons_captain = split_booty(doubloons, pirates)\n",
    "    print(f'Each of the {pirates} pirates receives '\n",
    "          f'{doubloons_per_pirate} of the {doubloons} gold doubloons.', end=' ')\n",
    "    if additional_doubloons_captain != 1:\n",
    "        print(f'The captain receives an extra {additional_doubloons_captain} '\n",
    "              f'gold doubloons.')\n",
    "    else:\n",
    "        print('The captain receives one extra gold doubloon.')\n"
   ]
  },
  {
   "cell_type": "code",
   "execution_count": 82,
   "metadata": {},
   "outputs": [
    {
     "name": "stdout",
     "output_type": "stream",
     "text": [
      "Each of the 8 pirates receives 2 of the 16 gold doubloons. The captain receives an extra 0 gold doubloons.\n",
      "Each of the 8 pirates receives 2 of the 17 gold doubloons. The captain receives one extra gold doubloon.\n",
      "Each of the 8 pirates receives 2 of the 18 gold doubloons. The captain receives an extra 2 gold doubloons.\n",
      "Each of the 8 pirates receives 2 of the 19 gold doubloons. The captain receives an extra 3 gold doubloons.\n"
     ]
    }
   ],
   "source": [
    "print_distribution_of_booty(16, 8)\n",
    "print_distribution_of_booty(17, 8)\n",
    "print_distribution_of_booty(18, 8)\n",
    "print_distribution_of_booty(19, 8)"
   ]
  },
  {
   "cell_type": "markdown",
   "metadata": {
    "lang": "en"
   },
   "source": [
    "For an extra large bonus , improve the output so that it correctly handles the case where the captain receives zero or one additional gold doubloon:\n",
    "\n",
    "```\n",
    "Each of the 8 pirates receives 2 of the 16 gold doubloons. The captain receives no extra gold doubloons.\n",
    "Each of the 8 pirates receives 2 of the 17 gold doubloons. The captain receives one extra gold doubloon.\n",
    "Each of the 8 pirates receives 2 of the 18 gold doubloons. The captain receives an extra 2 gold doubloons.\n",
    "```"
   ]
  },
  {
   "cell_type": "code",
   "execution_count": 85,
   "metadata": {},
   "outputs": [],
   "source": [
    "def print_distribution_of_booty(doubloons, pirates):\n",
    "    doubloons_per_pirate, additional_doubloons_captain = split_booty(doubloons, pirates)\n",
    "    print(f'Each of the {pirates} pirates receives '\n",
    "          f'{doubloons_per_pirate} of the {doubloons} gold doubloons.', end=' ')\n",
    "    if additional_doubloons_captain > 1:\n",
    "        print(f'The captain receives an extra {additional_doubloons_captain} '\n",
    "              f'gold doubloons.')\n",
    "    else:\n",
    "        if additional_doubloons_captain == 1:\n",
    "            print('The captain receives one extra gold doubloon.')\n",
    "        else:\n",
    "            print('The captain receives no extra gold doubloons.')"
   ]
  },
  {
   "cell_type": "code",
   "execution_count": 86,
   "metadata": {},
   "outputs": [
    {
     "name": "stdout",
     "output_type": "stream",
     "text": [
      "Each of the 8 pirates receives 2 of the 16 gold doubloons. The captain receives no extra gold doubloons.\n",
      "Each of the 8 pirates receives 2 of the 17 gold doubloons. The captain receives one extra gold doubloon.\n",
      "Each of the 8 pirates receives 2 of the 18 gold doubloons. The captain receives an extra 2 gold doubloons.\n",
      "Each of the 8 pirates receives 2 of the 19 gold doubloons. The captain receives an extra 3 gold doubloons.\n"
     ]
    }
   ],
   "source": [
    "print_distribution_of_booty(16, 8)\n",
    "print_distribution_of_booty(17, 8)\n",
    "print_distribution_of_booty(18, 8)\n",
    "print_distribution_of_booty(19, 8)"
   ]
  },
  {
   "cell_type": "markdown",
   "metadata": {},
   "source": [
    "# Print Greeting (part 3): Say Hi!\n",
    "\n",
    "Write a function `say_hi(name)` that prints the following text on the screen:\n",
    "\n",
    "- `Hi <name>, how's it going?` if name is no more than 5 characters long,\n",
    "- `Hey <name>, how are you?` if name is longer than 5 but shorter than 10 characters,\n",
    "- `Why, hello there <name>! Good to see you, old chum!` if the name is at least 10 characters long.\n",
    "\n",
    "```\n",
    "In [1]: say_hi(\"Billy\")\n",
    "        Hi Billy, how's it going?\n",
    "In [2]: say_hi(\"Andrew\")\n",
    "        Hey Andrew, how are you?\n",
    "In [2]: say_hi(\"Montgomery\")\n",
    "        Why, hello there Montgomery! Good to see you, old chum!\n",
    "```"
   ]
  },
  {
   "cell_type": "code",
   "execution_count": 95,
   "metadata": {},
   "outputs": [],
   "source": [
    "def say_hi(name):\n",
    "    if len(name) <= 5:\n",
    "        print(f\"Hi {name}, how's it going?\")\n",
    "    elif len(name) < 10:\n",
    "        print(f\"Hey {name}, how are you?\")\n",
    "    else:\n",
    "        print(f\"Why, hello there {name}! Good to see you, old chum!\")"
   ]
  },
  {
   "cell_type": "code",
   "execution_count": 96,
   "metadata": {},
   "outputs": [
    {
     "name": "stdout",
     "output_type": "stream",
     "text": [
      "Hi Billy, how's it going?\n"
     ]
    }
   ],
   "source": [
    "say_hi(\"Billy\")"
   ]
  },
  {
   "cell_type": "code",
   "execution_count": 97,
   "metadata": {},
   "outputs": [
    {
     "name": "stdout",
     "output_type": "stream",
     "text": [
      "Hey Andrew, how are you?\n"
     ]
    }
   ],
   "source": [
    "say_hi(\"Andrew\")"
   ]
  },
  {
   "cell_type": "code",
   "execution_count": 98,
   "metadata": {},
   "outputs": [
    {
     "name": "stdout",
     "output_type": "stream",
     "text": [
      "Why, hello there Montgomery! Good to see you, old chum!\n"
     ]
    }
   ],
   "source": [
    "say_hi(\"Montgomery\")"
   ]
  },
  {
   "cell_type": "code",
   "execution_count": null,
   "metadata": {
    "pycharm": {
     "name": "#%%\n"
    }
   },
   "outputs": [],
   "source": []
  }
 ],
 "metadata": {
  "kernelspec": {
   "display_name": "Python [conda env:ml-course] *",
   "language": "python",
   "name": "conda-env-ml-course-py"
  },
  "language_info": {
   "codemirror_mode": {
    "name": "ipython",
    "version": 3
   },
   "file_extension": ".py",
   "mimetype": "text/x-python",
   "name": "python",
   "nbconvert_exporter": "python",
   "pygments_lexer": "ipython3",
   "version": "3.8.5"
  }
 },
 "nbformat": 4,
 "nbformat_minor": 1
}
