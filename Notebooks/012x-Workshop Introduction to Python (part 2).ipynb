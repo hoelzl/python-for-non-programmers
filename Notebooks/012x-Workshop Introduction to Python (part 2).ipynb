{
 "cells": [
  {
   "cell_type": "markdown",
   "metadata": {},
   "source": [
    "# Operators, Comparisons\n",
    "\n",
    "Is $2^{16}$ greater than $32\\,000\\,\\,/\\,\\,2$?"
   ]
  },
  {
   "cell_type": "code",
   "execution_count": null,
   "metadata": {},
   "outputs": [],
   "source": []
  },
  {
   "cell_type": "markdown",
   "metadata": {},
   "source": [
    "Is $72$ divisible by $3$ (without rest)?"
   ]
  },
  {
   "cell_type": "code",
   "execution_count": null,
   "metadata": {},
   "outputs": [],
   "source": []
  },
  {
   "cell_type": "markdown",
   "metadata": {},
   "source": [
    "Is $72$ an even number (i.e., divisible by 2)?"
   ]
  },
  {
   "cell_type": "code",
   "execution_count": null,
   "metadata": {},
   "outputs": [],
   "source": []
  },
  {
   "cell_type": "markdown",
   "metadata": {},
   "source": [
    "Write a function `is_divisible_by(m, n)` that returns `True` if (and only if) `m` is divisible by `n`."
   ]
  },
  {
   "cell_type": "code",
   "execution_count": null,
   "metadata": {},
   "outputs": [],
   "source": []
  },
  {
   "cell_type": "markdown",
   "metadata": {},
   "source": [
    "Write a function `is_divisible_by_2_and_3(n)`, that returns `True` if (and only if) `n` is divisible by $2$ and $3$. "
   ]
  },
  {
   "cell_type": "code",
   "execution_count": null,
   "metadata": {},
   "outputs": [],
   "source": []
  },
  {
   "cell_type": "code",
   "execution_count": null,
   "metadata": {},
   "outputs": [],
   "source": []
  },
  {
   "cell_type": "markdown",
   "metadata": {},
   "source": [
    "Check whether $72$ is divisible by $2$ and $3$."
   ]
  },
  {
   "cell_type": "code",
   "execution_count": null,
   "metadata": {
    "pycharm": {
     "name": "#%%\n"
    }
   },
   "outputs": [],
   "source": []
  },
  {
   "cell_type": "markdown",
   "metadata": {
    "collapsed": true,
    "pycharm": {
     "name": "#%% md\n"
    }
   },
   "source": [
    "# Full Age\n",
    "\n",
    "Write a function `is_of_age(age)`, that returns `True` if `age` $\\geq 18$ and `False` otherwise"
   ]
  },
  {
   "cell_type": "code",
   "execution_count": null,
   "metadata": {
    "pycharm": {
     "name": "#%%\n"
    }
   },
   "outputs": [],
   "source": []
  },
  {
   "cell_type": "markdown",
   "metadata": {},
   "source": [
    "Test `is_of_age(age)` with values 17 and 18."
   ]
  },
  {
   "cell_type": "code",
   "execution_count": null,
   "metadata": {
    "pycharm": {
     "name": "#%%\n"
    }
   },
   "outputs": [],
   "source": []
  },
  {
   "cell_type": "code",
   "execution_count": null,
   "metadata": {
    "pycharm": {
     "name": "#%%\n"
    }
   },
   "outputs": [],
   "source": []
  },
  {
   "cell_type": "markdown",
   "metadata": {
    "collapsed": true,
    "pycharm": {
     "name": "#%% md\n"
    }
   },
   "source": [
    "# Printing Full Age\n",
    "\n",
    "Write a function `print_is_of_age(age)`, that prints `<age> is of age` if `age` $\\geq 18$ and `<age> is not of age` otherwise."
   ]
  },
  {
   "cell_type": "code",
   "execution_count": null,
   "metadata": {
    "pycharm": {
     "name": "#%%\n"
    }
   },
   "outputs": [],
   "source": []
  },
  {
   "cell_type": "markdown",
   "metadata": {},
   "source": [
    "Test `print_is_of_age(age)` with values 17 and 18."
   ]
  },
  {
   "cell_type": "code",
   "execution_count": null,
   "metadata": {
    "pycharm": {
     "name": "#%%\n"
    }
   },
   "outputs": [],
   "source": []
  },
  {
   "cell_type": "code",
   "execution_count": null,
   "metadata": {
    "pycharm": {
     "name": "#%%\n"
    }
   },
   "outputs": [],
   "source": []
  },
  {
   "cell_type": "markdown",
   "metadata": {
    "lang": "en"
   },
   "source": [
    "# Print Greeting (part 1)\n",
    "\n",
    "Write a function `print_greeting(name)` that prints a personalized greeting, e.g.\n",
    "```\n",
    "Hello Hans!\n",
    "Nice to see you again today.\n",
    "We wish you a lot of fun, Hans.\n",
    "```\n",
    "Use the `print()` function with one argument and string concatenation."
   ]
  },
  {
   "cell_type": "code",
   "execution_count": null,
   "metadata": {},
   "outputs": [],
   "source": []
  },
  {
   "cell_type": "code",
   "execution_count": null,
   "metadata": {
    "scrolled": true
   },
   "outputs": [],
   "source": []
  },
  {
   "cell_type": "markdown",
   "metadata": {},
   "source": [
    "# Print Greeting (part 2)\n",
    "\n",
    "Rewrite the function `print_greeting(name)` from the first part using f-strings."
   ]
  },
  {
   "cell_type": "code",
   "execution_count": null,
   "metadata": {},
   "outputs": [],
   "source": []
  },
  {
   "cell_type": "code",
   "execution_count": null,
   "metadata": {},
   "outputs": [],
   "source": []
  },
  {
   "cell_type": "markdown",
   "metadata": {
    "lang": "en"
   },
   "source": [
    "# Pirates, part 4\n",
    "\n",
    "In previous exercises we printed out the booty allocation for our gang of pirates in a rather verbose format.\n",
    "Since the lockdown has negatively impacted the booty we captur, we can no longer afford to use so much paper for our daily reports.\n",
    "\n",
    "Implement a new version of the function `print_distribution_of_booty(doubloons, pirates)` that outputs a summary in the following form:\n",
    "\n",
    "```\n",
    "Each of the 8 pirates receives 2 of the 17 gold doubloons. The captain receives an extra 1 gold doubloon(s).\n",
    "```\n",
    "Use F-strings to generate the output text. To compute the number of gold doubloons each pirate receives as well as the additional doubloons for the captain, you can use the following function:"
   ]
  },
  {
   "cell_type": "code",
   "execution_count": 1,
   "metadata": {},
   "outputs": [],
   "source": [
    "def split_booty(doubloons, pirates):\n",
    "    return divmod(doubloons, pirates)"
   ]
  },
  {
   "cell_type": "code",
   "execution_count": 2,
   "metadata": {},
   "outputs": [
    {
     "name": "stdout",
     "output_type": "stream",
     "text": [
      "Each pirate receives 2 doubloons.\n",
      "The captain receives 1 doubloons extra.\n"
     ]
    }
   ],
   "source": [
    "doubloons_per_pirate, additional_doubloons_captain = split_booty(17, 8)\n",
    "print(\"Each pirate receives\", doubloons_per_pirate, \"doubloons.\")\n",
    "print(\"The captain receives\", additional_doubloons_captain, \"doubloons extra.\")"
   ]
  },
  {
   "cell_type": "code",
   "execution_count": null,
   "metadata": {},
   "outputs": [],
   "source": []
  },
  {
   "cell_type": "code",
   "execution_count": null,
   "metadata": {},
   "outputs": [],
   "source": []
  },
  {
   "cell_type": "markdown",
   "metadata": {
    "lang": "en"
   },
   "source": [
    "For bonus booty from the next haul of your pirate gang, improve the output so that it correctly handles the case where the captain receives one additional gold doubloon:\n",
    "\n",
    "```\n",
    "Each of the 8 pirates receives 2 of the 17 gold doubloons. The captain receives one extra gold doubloon.\n",
    "Each of the 8 pirates receives 2 of the 18 gold doubloons. The captain receives an extra 2 gold doubloons.\n",
    "```\n",
    "\n",
    "*Note:* The `print()` function has a keyword argument `end` that determines the string printed at the end of the line, that may prove helpful:"
   ]
  },
  {
   "cell_type": "code",
   "execution_count": null,
   "metadata": {},
   "outputs": [],
   "source": []
  },
  {
   "cell_type": "code",
   "execution_count": null,
   "metadata": {},
   "outputs": [],
   "source": []
  },
  {
   "cell_type": "code",
   "execution_count": null,
   "metadata": {},
   "outputs": [],
   "source": []
  },
  {
   "cell_type": "markdown",
   "metadata": {
    "lang": "en"
   },
   "source": [
    "For an extra large bonus , improve the output so that it correctly handles the case where the captain receives zero or one additional gold doubloon:\n",
    "\n",
    "```\n",
    "Each of the 8 pirates receives 2 of the 16 gold doubloons. The captain receives no extra gold doubloons.\n",
    "Each of the 8 pirates receives 2 of the 17 gold doubloons. The captain receives one extra gold doubloon.\n",
    "Each of the 8 pirates receives 2 of the 18 gold doubloons. The captain receives an extra 2 gold doubloons.\n",
    "```"
   ]
  },
  {
   "cell_type": "code",
   "execution_count": null,
   "metadata": {},
   "outputs": [],
   "source": []
  },
  {
   "cell_type": "code",
   "execution_count": null,
   "metadata": {},
   "outputs": [],
   "source": []
  },
  {
   "cell_type": "markdown",
   "metadata": {},
   "source": [
    "# Print Greeting (part 3): Say Hi!\n",
    "\n",
    "Write a function `say_hi(name)` that prints the following text on the screen:\n",
    "\n",
    "- `Hi <name>, how's it going?` if name is no more than 5 characters long,\n",
    "- `Hey <name>, how are you?` if name is longer than 5 but shorter than 10 characters,\n",
    "- `Why, hello there <name>! Good to see you, old chum!` if the name is at least 10 characters long.\n",
    "\n",
    "```\n",
    "In [1]: say_hi(\"Billy\")\n",
    "        Hi Billy, how's it going?\n",
    "In [2]: say_hi(\"Andrew\")\n",
    "        Hey Andrew, how are you?\n",
    "In [2]: say_hi(\"Montgomery\")\n",
    "        Why, hello there Montgomery! Good to see you, old chum!\n",
    "```"
   ]
  },
  {
   "cell_type": "code",
   "execution_count": null,
   "metadata": {},
   "outputs": [],
   "source": []
  },
  {
   "cell_type": "code",
   "execution_count": null,
   "metadata": {},
   "outputs": [],
   "source": []
  },
  {
   "cell_type": "code",
   "execution_count": null,
   "metadata": {},
   "outputs": [],
   "source": []
  },
  {
   "cell_type": "code",
   "execution_count": null,
   "metadata": {},
   "outputs": [],
   "source": []
  },
  {
   "cell_type": "markdown",
   "metadata": {},
   "source": [
    "# Shopping List\n",
    "\n",
    "Define variables\n",
    "- `my_shopping_list`, containing a list with the strings `tea` and `coffee`,\n",
    "- `another_shopping_list`, also containg a list with the strings `tea` and `coffee`."
   ]
  },
  {
   "cell_type": "code",
   "execution_count": null,
   "metadata": {
    "pycharm": {
     "name": "#%%\n"
    }
   },
   "outputs": [],
   "source": []
  },
  {
   "cell_type": "markdown",
   "metadata": {},
   "source": [
    "Define a function `print_shopping_list(shopping_list)`, that prints the shopping list passed as argument:\n",
    "\n",
    "```\n",
    "Shopping list:\n",
    "  tea\n",
    "  coffee\n",
    "```"
   ]
  },
  {
   "cell_type": "code",
   "execution_count": null,
   "metadata": {
    "pycharm": {
     "name": "#%%\n"
    }
   },
   "outputs": [],
   "source": []
  },
  {
   "cell_type": "markdown",
   "metadata": {},
   "source": [
    "Test the function `print_shopping_list(shopping_list)` with both shopping lists."
   ]
  },
  {
   "cell_type": "code",
   "execution_count": null,
   "metadata": {
    "pycharm": {
     "name": "#%%\n"
    }
   },
   "outputs": [],
   "source": []
  },
  {
   "cell_type": "code",
   "execution_count": null,
   "metadata": {
    "pycharm": {
     "name": "#%%\n"
    }
   },
   "outputs": [],
   "source": []
  },
  {
   "cell_type": "markdown",
   "metadata": {},
   "source": [
    "Define a function `buy(product, shopping_list)`, that adds `product` to  `shopping_list`."
   ]
  },
  {
   "cell_type": "code",
   "execution_count": null,
   "metadata": {
    "pycharm": {
     "name": "#%%\n"
    }
   },
   "outputs": [],
   "source": []
  },
  {
   "cell_type": "markdown",
   "metadata": {},
   "source": [
    "Add `butter` and `bread` to the shopping list `my_shopping_list`."
   ]
  },
  {
   "cell_type": "code",
   "execution_count": null,
   "metadata": {
    "pycharm": {
     "name": "#%%\n"
    }
   },
   "outputs": [],
   "source": []
  },
  {
   "cell_type": "markdown",
   "metadata": {},
   "source": [
    "Print both shopping lists again."
   ]
  },
  {
   "cell_type": "code",
   "execution_count": null,
   "metadata": {
    "pycharm": {
     "name": "#%%\n"
    }
   },
   "outputs": [],
   "source": []
  },
  {
   "cell_type": "code",
   "execution_count": null,
   "metadata": {
    "pycharm": {
     "name": "#%%\n"
    }
   },
   "outputs": [],
   "source": []
  },
  {
   "cell_type": "markdown",
   "metadata": {},
   "source": [
    "What happens if you add `butter` and `bread` to the shopping list `my_shopping_list` once again?"
   ]
  },
  {
   "cell_type": "code",
   "execution_count": null,
   "metadata": {
    "pycharm": {
     "name": "#%%\n"
    }
   },
   "outputs": [],
   "source": []
  },
  {
   "cell_type": "markdown",
   "metadata": {},
   "source": [
    "# Printing Square Numbers\n",
    "\n",
    "Write a function `print_squares(m, n)`, that prints the squares of all numbers between `m` and `n` (inclusive) in the following form:\n",
    "\n",
    "```\n",
    "The square of 5 is 25\n",
    "The square of 6 is 36\n",
    "The square of 7 is 49\n",
    "```"
   ]
  },
  {
   "cell_type": "code",
   "execution_count": null,
   "metadata": {},
   "outputs": [],
   "source": []
  },
  {
   "cell_type": "markdown",
   "metadata": {},
   "source": [
    "Test the function with arguments 5 and 7."
   ]
  },
  {
   "cell_type": "code",
   "execution_count": null,
   "metadata": {},
   "outputs": [],
   "source": []
  },
  {
   "cell_type": "markdown",
   "metadata": {
    "pycharm": {
     "name": "#%% md\n"
    }
   },
   "source": [
    "# Improved Shopping List\n",
    "\n",
    "In this exercise we want to develop an improved version of the shopping list, by defining classes for both the shopping list itself as well as the items in the shopping list. Each item should include a product and the requested quantity of the product.\n",
    "\n",
    "Define a class `item` containing attributes for the product and the amount. Add a `__repr__` method to `Item` that returns a useful representation of an item."
   ]
  },
  {
   "cell_type": "code",
   "execution_count": null,
   "metadata": {
    "pycharm": {
     "name": "#%%\n"
    }
   },
   "outputs": [],
   "source": []
  },
  {
   "cell_type": "markdown",
   "metadata": {
    "pycharm": {
     "name": "#%% md\n"
    }
   },
   "source": [
    "Create an item representing 500g of coffee:"
   ]
  },
  {
   "cell_type": "code",
   "execution_count": null,
   "metadata": {
    "pycharm": {
     "name": "#%%\n"
    }
   },
   "outputs": [],
   "source": []
  },
  {
   "cell_type": "markdown",
   "metadata": {
    "pycharm": {
     "name": "#%% md\n"
    }
   },
   "source": [
    "Definie a class `ShoppingList`, that contains a list of `Item`-instances:\n",
    "\n",
    "- The constructor `__init__(self, items=[])` creates a shopping list, containing\n",
    "  the items from the list `items` (each element of `items` should be an `Item`-instance).\n",
    "- The method `shopping_list.add_item(item: Item)` adds an instance of `Item` to the shopping list\n",
    "  `shopping_list`.\n",
    "- The Method `print()` prints the shopping list.\n",
    "\n",
    "Add a `__repr__` method to `ShoppingList` that returns a useful representation of the shopping list."
   ]
  },
  {
   "cell_type": "code",
   "execution_count": null,
   "metadata": {
    "pycharm": {
     "name": "#%%\n"
    }
   },
   "outputs": [],
   "source": []
  },
  {
   "cell_type": "markdown",
   "metadata": {},
   "source": [
    "Definieren Sie Variable `my_shopping_list`, die eine Shopping list mit folgenden Items repräsentiert:\n",
    "- 2 Pakete tea,\n",
    "- 1 Paket coffee"
   ]
  },
  {
   "cell_type": "code",
   "execution_count": null,
   "metadata": {
    "pycharm": {
     "name": "#%%\n"
    }
   },
   "outputs": [],
   "source": []
  },
  {
   "cell_type": "markdown",
   "metadata": {},
   "source": [
    "Drucken Sie `my_shopping_list` aus."
   ]
  },
  {
   "cell_type": "code",
   "execution_count": null,
   "metadata": {
    "pycharm": {
     "name": "#%%\n"
    }
   },
   "outputs": [],
   "source": []
  },
  {
   "cell_type": "markdown",
   "metadata": {},
   "source": [
    "Fügen Sie  250 g butter und  1 Laib bread zur Shopping list `my_shopping_list` hinzu."
   ]
  },
  {
   "cell_type": "code",
   "execution_count": 20,
   "metadata": {
    "pycharm": {
     "name": "#%%\n"
    }
   },
   "outputs": [
    {
     "data": {
      "text/plain": [
       "ShoppingList([Item('Tee', '2 Pakete'), Item('Kaffee', '1 Paket'), Item('Butter', '250g'), Item('Brot', '1 Laib')])"
      ]
     },
     "execution_count": 20,
     "metadata": {},
     "output_type": "execute_result"
    }
   ],
   "source": [
    "my_shopping_list.add_item(Item(\"butter\", \"250g\"))\n",
    "my_shopping_list.add_item(Item(\"bread\", \"1 Laib\"))\n",
    "my_shopping_list"
   ]
  },
  {
   "cell_type": "markdown",
   "metadata": {},
   "source": [
    "Drucken Sie die Einkausliste nochmal aus."
   ]
  },
  {
   "cell_type": "code",
   "execution_count": 21,
   "metadata": {
    "pycharm": {
     "name": "#%%\n"
    }
   },
   "outputs": [
    {
     "name": "stdout",
     "output_type": "stream",
     "text": [
      "Einkaufsliste\n",
      "  Tee (2 Pakete)\n",
      "  Kaffee (1 Paket)\n",
      "  Butter (250g)\n",
      "  Brot (1 Laib)\n"
     ]
    }
   ],
   "source": [
    "my_shopping_list.print()"
   ]
  },
  {
   "cell_type": "markdown",
   "metadata": {},
   "source": [
    "Was passiert, wenn Sie `butter` und `bread` nochmals zur Shopping list `my_shopping_list` hinzufügen?"
   ]
  },
  {
   "cell_type": "code",
   "execution_count": 22,
   "metadata": {
    "pycharm": {
     "name": "#%%\n"
    }
   },
   "outputs": [
    {
     "name": "stdout",
     "output_type": "stream",
     "text": [
      "Einkaufsliste\n",
      "  Tee (2 Pakete)\n",
      "  Kaffee (1 Paket)\n",
      "  Butter (250g)\n",
      "  Brot (1 Laib)\n",
      "  Butter (250g)\n",
      "  Brot (1 Laib)\n"
     ]
    }
   ],
   "source": [
    "my_shopping_list.add_item(Item(\"butter\", \"250g\"))\n",
    "my_shopping_list.add_item(Item(\"bread\", \"1 Laib\"))\n",
    "my_shopping_list.print()"
   ]
  },
  {
   "cell_type": "code",
   "execution_count": null,
   "metadata": {
    "pycharm": {
     "name": "#%%\n"
    }
   },
   "outputs": [],
   "source": []
  }
 ],
 "metadata": {
  "kernelspec": {
   "display_name": "Python [conda env:ml-course] *",
   "language": "python",
   "name": "conda-env-ml-course-py"
  },
  "language_info": {
   "codemirror_mode": {
    "name": "ipython",
    "version": 3
   },
   "file_extension": ".py",
   "mimetype": "text/x-python",
   "name": "python",
   "nbconvert_exporter": "python",
   "pygments_lexer": "ipython3",
   "version": "3.8.5"
  }
 },
 "nbformat": 4,
 "nbformat_minor": 1
}
