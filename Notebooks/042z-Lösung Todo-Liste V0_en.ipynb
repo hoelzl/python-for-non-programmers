{
 "cells": [
  {
   "cell_type": "markdown",
   "metadata": {
    "lang": "en"
   },
   "source": [
    "# TODO list version 0"
   ]
  },
  {
   "cell_type": "markdown",
   "metadata": {
    "lang": "en"
   },
   "source": [
    "We want to create a simple application for managing a TODO list.\n",
    "\n",
    "Each entry in the TODO list should contain the following information:\n",
    "\n",
    "- title\n",
    "- priority\n",
    "- has the item been done or not?\n",
    "\n",
    "In the following, use a dictionary to represent a single entry in the TODO list\n",
    "and a list to represent the TODO list:"
   ]
  },
  {
   "cell_type": "markdown",
   "metadata": {
    "lang": "en"
   },
   "source": [
    "Create a `todos` list with todo items that contains the following entries:\n",
    "\n",
    "- Title: Learn Python, Priority 3, Not Done\n",
    "- Title: Buying Vegetables, Priority 2, Not Done\n",
    "- Title: Call Hans, priority 5, done"
   ]
  },
  {
   "cell_type": "code",
   "execution_count": 1,
   "metadata": {},
   "outputs": [
    {
     "data": {
      "text/plain": [
       "[{'title': 'Python lernen', 'priority': 3, 'is_completed': False},\n",
       " {'title': 'Gemüse einkaufen', 'priority': 2, 'is_completed': False},\n",
       " {'title': 'Hans anrufen', 'priority': 5, 'is_completed': True}]"
      ]
     },
     "execution_count": 1,
     "metadata": {},
     "output_type": "execute_result"
    }
   ],
   "source": [
    "todos = [dict(title='Python lernen', priority=3, is_completed=False),\n",
    "         dict(title='Gemüse einkaufen', priority=2, is_completed=False),\n",
    "         dict(title='Hans anrufen', priority=5, is_completed=True)]\n",
    "todos"
   ]
  },
  {
   "cell_type": "code",
   "execution_count": 2,
   "metadata": {},
   "outputs": [],
   "source": [
    "todos = [{'title': 'Python lernen', 'priority': 3, 'is_completed': False},\n",
    "         {'title': 'Gemüse einkaufen', 'priority': 2, 'is_completed': False},\n",
    "         {'title': 'Hans anrufen', 'priority': 5, 'is_completed': True}]"
   ]
  },
  {
   "cell_type": "code",
   "execution_count": 3,
   "metadata": {},
   "outputs": [
    {
     "data": {
      "text/plain": [
       "[{'title': 'Python lernen', 'priority': 3, 'is_completed': False},\n",
       " {'title': 'Gemüse einkaufen', 'priority': 2, 'is_completed': False},\n",
       " {'title': 'Hans anrufen', 'priority': 5, 'is_completed': True}]"
      ]
     },
     "execution_count": 3,
     "metadata": {},
     "output_type": "execute_result"
    }
   ],
   "source": [
    "todos"
   ]
  },
  {
   "cell_type": "markdown",
   "metadata": {
    "lang": "en"
   },
   "source": [
    "Write a function `add_todo_item(todo_list, title, priority)` that adds a new todo item to `todo_list`."
   ]
  },
  {
   "cell_type": "code",
   "execution_count": 11,
   "metadata": {},
   "outputs": [],
   "source": [
    "def add_todo_item(todo_list, title, priority):\n",
    "    todo_list.append({'title': title,\n",
    "                      'priority': priority,\n",
    "                      'is_completed': False})"
   ]
  },
  {
   "cell_type": "markdown",
   "metadata": {
    "lang": "en"
   },
   "source": [
    "Add a new todo item with the title \"shovel snow\" and priority 5 in the `todos` list."
   ]
  },
  {
   "cell_type": "code",
   "execution_count": 12,
   "metadata": {},
   "outputs": [],
   "source": [
    "add_todo_item(todos, \"Schnee schaufeln\", 5)"
   ]
  },
  {
   "cell_type": "code",
   "execution_count": 14,
   "metadata": {},
   "outputs": [
    {
     "data": {
      "text/plain": [
       "[{'title': 'Python lernen', 'priority': 3, 'is_completed': False},\n",
       " {'title': 'Gemüse einkaufen', 'priority': 2, 'is_completed': False},\n",
       " {'title': 'Hans anrufen', 'priority': 5, 'is_completed': True},\n",
       " {'title': 'Schnee schaufeln', 'priority': 5, 'is_completed': False}]"
      ]
     },
     "execution_count": 14,
     "metadata": {},
     "output_type": "execute_result"
    }
   ],
   "source": [
    "todos"
   ]
  },
  {
   "cell_type": "markdown",
   "metadata": {
    "lang": "en"
   },
   "source": [
    "Write a function `mark_todo_item_done(todo_list, title)`, which marks the first todo item in the list `todo_list` with the title `title` as done."
   ]
  },
  {
   "cell_type": "code",
   "execution_count": 1,
   "metadata": {},
   "outputs": [],
   "source": [
    "def mark_todo_item_done(todo_list, desired_title):\n",
    "    for item in todo_list:\n",
    "        if item['title'] == desired_title and not item['is_completed']:\n",
    "            item['is_completed'] = True\n",
    "            break"
   ]
  },
  {
   "cell_type": "markdown",
   "metadata": {
    "lang": "en"
   },
   "source": [
    "Mark the todo item `shovel snow` as done."
   ]
  },
  {
   "cell_type": "code",
   "execution_count": 16,
   "metadata": {},
   "outputs": [],
   "source": [
    "mark_todo_item_done(todos, \"Schnee schaufeln\")"
   ]
  },
  {
   "cell_type": "code",
   "execution_count": 17,
   "metadata": {},
   "outputs": [
    {
     "data": {
      "text/plain": [
       "[{'title': 'Python lernen', 'priority': 3, 'is_completed': False},\n",
       " {'title': 'Gemüse einkaufen', 'priority': 2, 'is_completed': False},\n",
       " {'title': 'Hans anrufen', 'priority': 5, 'is_completed': True},\n",
       " {'title': 'Schnee schaufeln', 'priority': 5, 'is_completed': True}]"
      ]
     },
     "execution_count": 17,
     "metadata": {},
     "output_type": "execute_result"
    }
   ],
   "source": [
    "todos"
   ]
  },
  {
   "cell_type": "markdown",
   "metadata": {
    "lang": "en"
   },
   "source": [
    "Add two todo items with the text \"Learn Python\" and priority 1 and 6 to the todo list."
   ]
  },
  {
   "cell_type": "code",
   "execution_count": 18,
   "metadata": {},
   "outputs": [],
   "source": [
    "add_todo_item(todos, \"Python lernen\", 1)\n",
    "add_todo_item(todos, \"Python lernen\", 6)"
   ]
  },
  {
   "cell_type": "code",
   "execution_count": 19,
   "metadata": {},
   "outputs": [
    {
     "data": {
      "text/plain": [
       "[{'title': 'Python lernen', 'priority': 3, 'is_completed': False},\n",
       " {'title': 'Gemüse einkaufen', 'priority': 2, 'is_completed': False},\n",
       " {'title': 'Hans anrufen', 'priority': 5, 'is_completed': True},\n",
       " {'title': 'Schnee schaufeln', 'priority': 5, 'is_completed': True},\n",
       " {'title': 'Python lernen', 'priority': 1, 'is_completed': False},\n",
       " {'title': 'Python lernen', 'priority': 6, 'is_completed': False}]"
      ]
     },
     "execution_count": 19,
     "metadata": {},
     "output_type": "execute_result"
    }
   ],
   "source": [
    "todos"
   ]
  },
  {
   "cell_type": "markdown",
   "metadata": {
    "lang": "en"
   },
   "source": [
    "Mark one todo item \"Learn Python\" as done. What does your list look like now?"
   ]
  },
  {
   "cell_type": "code",
   "execution_count": 20,
   "metadata": {},
   "outputs": [],
   "source": [
    "mark_todo_item_done(todos, \"Python lernen\")"
   ]
  },
  {
   "cell_type": "code",
   "execution_count": 21,
   "metadata": {},
   "outputs": [
    {
     "data": {
      "text/plain": [
       "[{'title': 'Python lernen', 'priority': 3, 'is_completed': True},\n",
       " {'title': 'Gemüse einkaufen', 'priority': 2, 'is_completed': False},\n",
       " {'title': 'Hans anrufen', 'priority': 5, 'is_completed': True},\n",
       " {'title': 'Schnee schaufeln', 'priority': 5, 'is_completed': True},\n",
       " {'title': 'Python lernen', 'priority': 1, 'is_completed': False},\n",
       " {'title': 'Python lernen', 'priority': 6, 'is_completed': False}]"
      ]
     },
     "execution_count": 21,
     "metadata": {},
     "output_type": "execute_result"
    }
   ],
   "source": [
    "todos"
   ]
  },
  {
   "cell_type": "markdown",
   "metadata": {
    "lang": "en"
   },
   "source": [
    "Mark another todo item \"Learn Python\" as done. What does your list look like now?"
   ]
  },
  {
   "cell_type": "code",
   "execution_count": 22,
   "metadata": {},
   "outputs": [
    {
     "data": {
      "text/plain": [
       "[{'title': 'Python lernen', 'priority': 3, 'is_completed': True},\n",
       " {'title': 'Gemüse einkaufen', 'priority': 2, 'is_completed': False},\n",
       " {'title': 'Hans anrufen', 'priority': 5, 'is_completed': True},\n",
       " {'title': 'Schnee schaufeln', 'priority': 5, 'is_completed': True},\n",
       " {'title': 'Python lernen', 'priority': 1, 'is_completed': True},\n",
       " {'title': 'Python lernen', 'priority': 6, 'is_completed': False}]"
      ]
     },
     "execution_count": 22,
     "metadata": {},
     "output_type": "execute_result"
    }
   ],
   "source": [
    "mark_todo_item_done(todos, \"Python lernen\")\n",
    "todos"
   ]
  },
  {
   "cell_type": "markdown",
   "metadata": {
    "lang": "en"
   },
   "source": [
    "Write a function `delete_todo_item(todo_list, title)`, which removes the first todo item in the list `todo_list` that has the title` title`.\n",
    "\n",
    "*Caution: You should not remove or insert any entries while iterating over a list!*"
   ]
  },
  {
   "cell_type": "code",
   "execution_count": 23,
   "metadata": {},
   "outputs": [],
   "source": [
    "def delete_todo_item(todo_list, title):\n",
    "    index_to_delete = -1\n",
    "    for index, item in enumerate(todo_list):\n",
    "        if item['title'] == title:\n",
    "            index_to_delete = index\n",
    "            break\n",
    "    if index_to_delete >= 0:\n",
    "        del todo_list[index_to_delete]\n"
   ]
  },
  {
   "cell_type": "markdown",
   "metadata": {
    "lang": "en"
   },
   "source": [
    "Delete an item `Learn Python` from` todo_list`"
   ]
  },
  {
   "cell_type": "code",
   "execution_count": 24,
   "metadata": {},
   "outputs": [
    {
     "data": {
      "text/plain": [
       "[{'title': 'Gemüse einkaufen', 'priority': 2, 'is_completed': False},\n",
       " {'title': 'Hans anrufen', 'priority': 5, 'is_completed': True},\n",
       " {'title': 'Schnee schaufeln', 'priority': 5, 'is_completed': True},\n",
       " {'title': 'Python lernen', 'priority': 1, 'is_completed': True},\n",
       " {'title': 'Python lernen', 'priority': 6, 'is_completed': False}]"
      ]
     },
     "execution_count": 24,
     "metadata": {},
     "output_type": "execute_result"
    }
   ],
   "source": [
    "delete_todo_item(todos, \"Python lernen\")\n",
    "todos\n"
   ]
  },
  {
   "cell_type": "markdown",
   "metadata": {
    "lang": "en"
   },
   "source": [
    "Write a function `delete_all_completed_todo_items(todo_list)`, which deletes all completed todo items from `todo_list`.\n",
    "\n",
    "*Note: You will probably need two consecutive `for` loops: one to determine the indexes and one to delete them*"
   ]
  },
  {
   "cell_type": "code",
   "execution_count": 26,
   "metadata": {},
   "outputs": [],
   "source": [
    "def delete_all_completed_todo_items(todo_list):\n",
    "    indices_to_delete = []\n",
    "    for index, item in enumerate(todo_list):\n",
    "        if item['is_completed']:\n",
    "            indices_to_delete.append(index)\n",
    "    for index in sorted(indices_to_delete, reverse=True):\n",
    "        del todo_list[index]"
   ]
  },
  {
   "cell_type": "code",
   "execution_count": 27,
   "metadata": {},
   "outputs": [
    {
     "data": {
      "text/plain": [
       "[{'title': 'Gemüse einkaufen', 'priority': 2, 'is_completed': False},\n",
       " {'title': 'Python lernen', 'priority': 6, 'is_completed': False}]"
      ]
     },
     "execution_count": 27,
     "metadata": {},
     "output_type": "execute_result"
    }
   ],
   "source": [
    "delete_all_completed_todo_items(todos)\n",
    "todos"
   ]
  },
  {
   "cell_type": "code",
   "execution_count": null,
   "metadata": {},
   "outputs": [],
   "source": []
  }
 ],
 "metadata": {
  "kernelspec": {
   "display_name": "Python 3",
   "language": "python",
   "name": "python3"
  },
  "language_info": {
   "codemirror_mode": {
    "name": "ipython",
    "version": 3
   },
   "file_extension": ".py",
   "mimetype": "text/x-python",
   "name": "python",
   "nbconvert_exporter": "python",
   "pygments_lexer": "ipython3",
   "version": "3.8.5"
  },
  "nbTranslate": {
   "displayLangs": [
    "bn"
   ],
   "hotkey": "alt-t",
   "langInMainMenu": true,
   "sourceLang": "de",
   "targetLang": "en",
   "useGoogleTranslate": true
  }
 },
 "nbformat": 4,
 "nbformat_minor": 4
}
