{
 "cells": [
  {
   "cell_type": "markdown",
   "metadata": {},
   "source": [
    "# Todo-Liste\n",
    "\n",
    "In diesem Workshop wollen wir zum dritten Mal eine Todo-Liste implementieren, aber dabei sowohl die Liste als auch die Einträge durch Instanzen von Klassen darstellen und die Implementierung in den Klassen kapseln.\n",
    "\n",
    "## Grundfunktionalität\n",
    "\n",
    "Jeder Eintrag in der Todo-Liste soll wieder folgende Information enthalten:\n",
    "\n",
    "- Titel\n",
    "- Priorität\n",
    "- Wurde das Item schon erledigt oder nicht?\n",
    "\n",
    "Definieren Sie eine Klasse `TodoItem`, die diese Daten kapselt. \n",
    "\n",
    "Implementieren Sie eine `__init__()`-Methode, die Titel als obligatorisches Argument bekommt. Priorität und \"wurde erledigt\" sollen optionale Parameter mit Weren 1 bzw. `False` sein."
   ]
  },
  {
   "cell_type": "code",
   "execution_count": 2,
   "metadata": {
    "pycharm": {
     "name": "#%%\n"
    }
   },
   "outputs": [],
   "source": [
    "class TodoItem:\n",
    "    def __init__(self, title, priority=1, is_completed=False):\n",
    "        self.title = title\n",
    "        self.priority = priority\n",
    "        self.is_completed = is_completed"
   ]
  },
  {
   "cell_type": "markdown",
   "metadata": {},
   "source": [
    "Definieren Sie eine Klasse `TodoList`, die eine Todo-Liste repräsentiert.\n",
    "\n",
    "Implementieren Sie eine `__init__()` Methode, die eine Liste von `TodoItem`-Instanzen als Argument bekommt und speichert.\n",
    "\n",
    "Fügen Sie folgende Methoden hinzu:\n",
    "\n",
    "- `add(self, title: str, priority: int, is_completed: bool)`, die ein neues Todo-Item an die Todo-Liste anhängt und \n",
    "  geeignete Default-Werte für `priority` und `is_completed` übergibt.\n",
    "- `mark_completed(self, title)`, die das erste in der Liste vorkommende Todo-Item mit Titel `title`, das noch nicht bearbeitet ist, als bearbeitet markiert.\n",
    "- `delete(self, title)`, die das erste in der Liste vorkommende Todo-Item mit Titel `title` aus der Liste entfernt.\n",
    "- `delete_all_completed(self)`, die alle beendetend Items aus der Liste entfernt."
   ]
  },
  {
   "cell_type": "code",
   "execution_count": 3,
   "metadata": {
    "pycharm": {
     "name": "#%%\n"
    }
   },
   "outputs": [],
   "source": [
    "class TodoList:\n",
    "    def __init__(self, items):\n",
    "        self.items = items\n",
    "\n",
    "    def add(self, title, priority=1, is_completed=False):\n",
    "        self.items.append(TodoItem(title, priority, is_completed))\n",
    "\n",
    "    def mark_completed(self, title):\n",
    "        for item in self.items:\n",
    "            if item.title == title and not item.is_completed:\n",
    "                item.is_completed = True\n",
    "                break\n",
    "\n",
    "    def delete(self, title):\n",
    "        index_to_delete = -1\n",
    "        for index, item in enumerate(self.items):\n",
    "            if item.title == title:\n",
    "                index_to_delete = index\n",
    "                break\n",
    "        if index_to_delete >= 0:\n",
    "            del self.items[index_to_delete]\n",
    "\n",
    "    def delete_all_completed(self):\n",
    "        indices_to_delete = []\n",
    "        # To keep PyCharm happy\n",
    "        assert isinstance(self.items, list)\n",
    "        for index, item in enumerate(self.items):\n",
    "            if item.is_completed:\n",
    "                indices_to_delete.append(index)\n",
    "        import numpy as np\n",
    "        self.items = np.delete(self.items, indices_to_delete).tolist()"
   ]
  },
  {
   "cell_type": "markdown",
   "metadata": {},
   "source": [
    "Testen Sie die Klassen indem Sie eine Todo-Liste erzeugen und darauf die beschriebenen Operationen anwenden."
   ]
  },
  {
   "cell_type": "code",
   "execution_count": 4,
   "metadata": {},
   "outputs": [],
   "source": [
    "todo_list = TodoList([TodoItem('Eat breakfast'), TodoItem('Learn Python')])"
   ]
  },
  {
   "cell_type": "code",
   "execution_count": 5,
   "metadata": {},
   "outputs": [
    {
     "data": {
      "text/plain": [
       "['Eat breakfast', 'Learn Python']"
      ]
     },
     "execution_count": 5,
     "metadata": {},
     "output_type": "execute_result"
    }
   ],
   "source": [
    "[item.title for item in todo_list.items]"
   ]
  },
  {
   "cell_type": "code",
   "execution_count": 6,
   "metadata": {},
   "outputs": [],
   "source": [
    "todo_list.add('Have fun')"
   ]
  },
  {
   "cell_type": "code",
   "execution_count": 7,
   "metadata": {},
   "outputs": [
    {
     "data": {
      "text/plain": [
       "['Eat breakfast', 'Learn Python', 'Have fun']"
      ]
     },
     "execution_count": 7,
     "metadata": {},
     "output_type": "execute_result"
    }
   ],
   "source": [
    "[item.title for item in todo_list.items]"
   ]
  },
  {
   "cell_type": "code",
   "execution_count": 8,
   "metadata": {},
   "outputs": [],
   "source": [
    "todo_list.mark_completed('Learn Python')"
   ]
  },
  {
   "cell_type": "code",
   "execution_count": 9,
   "metadata": {},
   "outputs": [
    {
     "data": {
      "text/plain": [
       "[('Eat breakfast', False), ('Learn Python', True), ('Have fun', False)]"
      ]
     },
     "execution_count": 9,
     "metadata": {},
     "output_type": "execute_result"
    }
   ],
   "source": [
    "[(item.title, item.is_completed) for item in todo_list.items]"
   ]
  },
  {
   "cell_type": "code",
   "execution_count": 10,
   "metadata": {},
   "outputs": [],
   "source": [
    "todo_list.delete('Eat breakfast')"
   ]
  },
  {
   "cell_type": "code",
   "execution_count": 11,
   "metadata": {},
   "outputs": [
    {
     "data": {
      "text/plain": [
       "['Learn Python', 'Have fun']"
      ]
     },
     "execution_count": 11,
     "metadata": {},
     "output_type": "execute_result"
    }
   ],
   "source": [
    "[item.title for item in todo_list.items]"
   ]
  },
  {
   "cell_type": "code",
   "execution_count": 12,
   "metadata": {},
   "outputs": [],
   "source": [
    "todo_list.delete_all_completed()"
   ]
  },
  {
   "cell_type": "code",
   "execution_count": 13,
   "metadata": {},
   "outputs": [
    {
     "data": {
      "text/plain": [
       "['Have fun']"
      ]
     },
     "execution_count": 13,
     "metadata": {},
     "output_type": "execute_result"
    }
   ],
   "source": [
    "[item.title for item in todo_list.items]"
   ]
  },
  {
   "cell_type": "markdown",
   "metadata": {},
   "source": [
    "## Dunder-Methoden\n",
    "\n",
    "Erweitern Sie die Klasse `TodoItem` um Methoden `__str__(self)` und `__repr__(self)`, die Instanzen der Klasse in Strings umwandeln."
   ]
  },
  {
   "cell_type": "code",
   "execution_count": 1,
   "metadata": {
    "pycharm": {
     "name": "#%%\n"
    }
   },
   "outputs": [],
   "source": [
    "class TodoItem:\n",
    "    def __init__(self, title, priority=1, is_completed=False):\n",
    "        self.title = title\n",
    "        self.priority = priority\n",
    "        self.is_completed = is_completed\n",
    "\n",
    "    def __str__(self):\n",
    "        return (f\"{self.title}, priority {self.priority}\" +\n",
    "                (\"\" if not self.is_completed else \", done\"))\n",
    "    \n",
    "    def __repr__(self):\n",
    "        return f\"TodoItem({self.title!r}, {self.priority!r}, {self.is_completed!r})\""
   ]
  },
  {
   "cell_type": "markdown",
   "metadata": {},
   "source": [
    "Erweitern Sie die Klasse `TodoList` um Methoden `__str__(self)` und `__repr__(self)`, die Instanzen der Klasse in Strings umwandeln."
   ]
  },
  {
   "cell_type": "code",
   "execution_count": 40,
   "metadata": {
    "pycharm": {
     "name": "#%%\n"
    }
   },
   "outputs": [],
   "source": [
    "from typing import List\n",
    "\n",
    "class TodoList:\n",
    "    def __init__(self, items):\n",
    "        self.items = items\n",
    "\n",
    "    def add(self, title, priority=1, is_completed=False):\n",
    "        self.items.append(TodoItem(title, priority, is_completed))\n",
    "\n",
    "    def mark_completed(self, title):\n",
    "        for item in self.items:\n",
    "            if item.title == title and not item.is_completed:\n",
    "                item.is_completed = True\n",
    "                break\n",
    "\n",
    "    def delete(self, title):\n",
    "        index_to_delete = -1\n",
    "        for index, item in enumerate(self.items):\n",
    "            if item.title == title:\n",
    "                index_to_delete = index\n",
    "                break\n",
    "        if index_to_delete >= 0:\n",
    "            del self.items[index_to_delete]\n",
    "\n",
    "    def delete_all_completed(self):\n",
    "        indices_to_delete = []\n",
    "        # To keep PyCharm happy\n",
    "        assert isinstance(self.items, list)\n",
    "        for index, item in enumerate(self.items):\n",
    "            if item.is_completed:\n",
    "                indices_to_delete.append(index)\n",
    "        import numpy as np\n",
    "        self.items = np.delete(self.items, indices_to_delete).tolist()\n",
    "\n",
    "    def __str__(self):\n",
    "        from io import StringIO\n",
    "        result = StringIO()\n",
    "        print(\"Todo List:\", file=result)\n",
    "        for item in self.items:\n",
    "            print(f\"  {item!s}\", file=result)\n",
    "        return result.getvalue()\n",
    "\n",
    "    def __repr__(self):\n",
    "        return f\"TodoList({self.items!r})\""
   ]
  },
  {
   "cell_type": "markdown",
   "metadata": {},
   "source": [
    "Wiederholen Sie die Tests für die erweiterte Implementierung."
   ]
  },
  {
   "cell_type": "code",
   "execution_count": 59,
   "metadata": {},
   "outputs": [],
   "source": [
    "todo_list = TodoList([TodoItem('Eat breakfast'), TodoItem('Learn Python')])"
   ]
  },
  {
   "cell_type": "code",
   "execution_count": 60,
   "metadata": {},
   "outputs": [
    {
     "data": {
      "text/plain": [
       "TodoList([TodoItem('Eat breakfast', 1, False), TodoItem('Learn Python', 1, False)])"
      ]
     },
     "execution_count": 60,
     "metadata": {},
     "output_type": "execute_result"
    }
   ],
   "source": [
    "todo_list"
   ]
  },
  {
   "cell_type": "code",
   "execution_count": 61,
   "metadata": {},
   "outputs": [],
   "source": [
    "todo_list.add('Have fun')"
   ]
  },
  {
   "cell_type": "code",
   "execution_count": 62,
   "metadata": {},
   "outputs": [
    {
     "data": {
      "text/plain": [
       "TodoList([TodoItem('Eat breakfast', 1, False), TodoItem('Learn Python', 1, False), TodoItem('Have fun', 1, False)])"
      ]
     },
     "execution_count": 62,
     "metadata": {},
     "output_type": "execute_result"
    }
   ],
   "source": [
    "todo_list"
   ]
  },
  {
   "cell_type": "code",
   "execution_count": 63,
   "metadata": {},
   "outputs": [],
   "source": [
    "todo_list.mark_completed('Learn Python')"
   ]
  },
  {
   "cell_type": "code",
   "execution_count": 64,
   "metadata": {},
   "outputs": [
    {
     "data": {
      "text/plain": [
       "TodoList([TodoItem('Eat breakfast', 1, False), TodoItem('Learn Python', 1, True), TodoItem('Have fun', 1, False)])"
      ]
     },
     "execution_count": 64,
     "metadata": {},
     "output_type": "execute_result"
    }
   ],
   "source": [
    "todo_list"
   ]
  },
  {
   "cell_type": "code",
   "execution_count": 65,
   "metadata": {},
   "outputs": [],
   "source": [
    "todo_list.delete('Eat breakfast')"
   ]
  },
  {
   "cell_type": "code",
   "execution_count": 66,
   "metadata": {},
   "outputs": [
    {
     "data": {
      "text/plain": [
       "TodoList([TodoItem('Learn Python', 1, True), TodoItem('Have fun', 1, False)])"
      ]
     },
     "execution_count": 66,
     "metadata": {},
     "output_type": "execute_result"
    }
   ],
   "source": [
    "todo_list"
   ]
  },
  {
   "cell_type": "code",
   "execution_count": 67,
   "metadata": {},
   "outputs": [],
   "source": [
    "todo_list.delete_all_completed()"
   ]
  },
  {
   "cell_type": "code",
   "execution_count": 68,
   "metadata": {},
   "outputs": [
    {
     "data": {
      "text/plain": [
       "TodoList([TodoItem('Have fun', 1, False)])"
      ]
     },
     "execution_count": 68,
     "metadata": {},
     "output_type": "execute_result"
    }
   ],
   "source": [
    "todo_list"
   ]
  }
 ],
 "metadata": {
  "kernelspec": {
   "display_name": "Python 3",
   "language": "python",
   "name": "python3"
  },
  "language_info": {
   "codemirror_mode": {
    "name": "ipython",
    "version": 3
   },
   "file_extension": ".py",
   "mimetype": "text/x-python",
   "name": "python",
   "nbconvert_exporter": "python",
   "pygments_lexer": "ipython3",
   "version": "3.7.6"
  }
 },
 "nbformat": 4,
 "nbformat_minor": 4
}
