{
 "cells": [
  {
   "cell_type": "markdown",
   "metadata": {
    "lang": "en"
   },
   "source": [
    "# Introduction\n",
    "\n",
    "How can you represent the string `Hello, world!` In Python?"
   ]
  },
  {
   "cell_type": "code",
   "execution_count": 1,
   "metadata": {},
   "outputs": [
    {
     "data": {
      "text/plain": [
       "'Hello, world!'"
      ]
     },
     "execution_count": 1,
     "metadata": {},
     "output_type": "execute_result"
    }
   ],
   "source": [
    "'Hello, world!'"
   ]
  },
  {
   "cell_type": "markdown",
   "metadata": {
    "lang": "en"
   },
   "source": [
    "How can you represent your name as text (string) in Python?"
   ]
  },
  {
   "cell_type": "code",
   "execution_count": 2,
   "metadata": {},
   "outputs": [
    {
     "data": {
      "text/plain": [
       "'Matthias'"
      ]
     },
     "execution_count": 2,
     "metadata": {},
     "output_type": "execute_result"
    }
   ],
   "source": [
    "'Matthias'"
   ]
  },
  {
   "cell_type": "markdown",
   "metadata": {
    "lang": "en"
   },
   "source": [
    "How can you put the string `Hello, World!` on the screen?"
   ]
  },
  {
   "cell_type": "code",
   "execution_count": 3,
   "metadata": {},
   "outputs": [
    {
     "name": "stdout",
     "output_type": "stream",
     "text": [
      "Hello, World!\n"
     ]
    }
   ],
   "source": [
    "print('Hello, World!')"
   ]
  },
  {
   "cell_type": "markdown",
   "metadata": {
    "lang": "en"
   },
   "source": [
    "How can you put your name on the screen?"
   ]
  },
  {
   "cell_type": "code",
   "execution_count": 4,
   "metadata": {},
   "outputs": [
    {
     "name": "stdout",
     "output_type": "stream",
     "text": [
      "Matthias\n"
     ]
    }
   ],
   "source": [
    "print('Matthias')"
   ]
  },
  {
   "cell_type": "markdown",
   "metadata": {
    "lang": "en"
   },
   "source": [
    "How can you display\n",
    "```\n",
    "130 g   Mehl\n",
    "250 ml  Milch\n",
    "1 EL    Vanillezucker\n",
    "1 Prise Salz\n",
    "```\n",
    "on the screen?"
   ]
  },
  {
   "cell_type": "code",
   "execution_count": 5,
   "metadata": {},
   "outputs": [
    {
     "name": "stdout",
     "output_type": "stream",
     "text": [
      "130 g   Mehl\n",
      "250 ml  Milch\n",
      "1 EL    Vanillezucker\n",
      "1 Prise Salz\n"
     ]
    }
   ],
   "source": [
    "print('130 g   Mehl')\n",
    "print('250 ml  Milch')\n",
    "print('1 EL    Vanillezucker')\n",
    "print('1 Prise Salz')"
   ]
  },
  {
   "cell_type": "code",
   "execution_count": 6,
   "metadata": {},
   "outputs": [
    {
     "name": "stdout",
     "output_type": "stream",
     "text": [
      "130 g   Mehl\n",
      "250 ml  Milch\n",
      "1 EL    Vanillezucker\n",
      "1 Prise Salz\n"
     ]
    }
   ],
   "source": [
    "# Alternatively:\n",
    "print(\"\"\"\\\n",
    "130 g   Mehl\n",
    "250 ml  Milch\n",
    "1 EL    Vanillezucker\n",
    "1 Prise Salz\"\"\")"
   ]
  },
  {
   "cell_type": "markdown",
   "metadata": {
    "lang": "en"
   },
   "source": [
    "# Numbers and math\n",
    "\n",
    "How can you represent the number `32` in Python?"
   ]
  },
  {
   "cell_type": "code",
   "execution_count": 7,
   "metadata": {},
   "outputs": [
    {
     "data": {
      "text/plain": [
       "32"
      ]
     },
     "execution_count": 7,
     "metadata": {},
     "output_type": "execute_result"
    }
   ],
   "source": [
    "32"
   ]
  },
  {
   "cell_type": "markdown",
   "metadata": {
    "lang": "en"
   },
   "source": [
    "What is the data type of `14` in Python?"
   ]
  },
  {
   "cell_type": "code",
   "execution_count": 8,
   "metadata": {},
   "outputs": [
    {
     "data": {
      "text/plain": [
       "int"
      ]
     },
     "execution_count": 8,
     "metadata": {},
     "output_type": "execute_result"
    }
   ],
   "source": [
    "type(14)"
   ]
  },
  {
   "cell_type": "markdown",
   "metadata": {
    "lang": "en"
   },
   "source": [
    "What is the data type of `14.0` in Python?"
   ]
  },
  {
   "cell_type": "code",
   "execution_count": 9,
   "metadata": {},
   "outputs": [
    {
     "data": {
      "text/plain": [
       "float"
      ]
     },
     "execution_count": 9,
     "metadata": {},
     "output_type": "execute_result"
    }
   ],
   "source": [
    "type(14.0)"
   ]
  },
  {
   "cell_type": "markdown",
   "metadata": {
    "lang": "en"
   },
   "source": [
    "What is the data type of `'14'` in Python?"
   ]
  },
  {
   "cell_type": "code",
   "execution_count": 10,
   "metadata": {},
   "outputs": [
    {
     "data": {
      "text/plain": [
       "str"
      ]
     },
     "execution_count": 10,
     "metadata": {},
     "output_type": "execute_result"
    }
   ],
   "source": [
    "type('14')"
   ]
  },
  {
   "cell_type": "markdown",
   "metadata": {
    "lang": "en"
   },
   "source": [
    "What is the value of `1 + 2 * 3`?"
   ]
  },
  {
   "cell_type": "code",
   "execution_count": 11,
   "metadata": {},
   "outputs": [
    {
     "data": {
      "text/plain": [
       "7"
      ]
     },
     "execution_count": 11,
     "metadata": {},
     "output_type": "execute_result"
    }
   ],
   "source": [
    "1 + 2 * 3"
   ]
  },
  {
   "cell_type": "markdown",
   "metadata": {
    "lang": "en"
   },
   "source": [
    "What is the data type of `1 + 2 * 3` in Python?"
   ]
  },
  {
   "cell_type": "code",
   "execution_count": 12,
   "metadata": {},
   "outputs": [
    {
     "data": {
      "text/plain": [
       "int"
      ]
     },
     "execution_count": 12,
     "metadata": {},
     "output_type": "execute_result"
    }
   ],
   "source": [
    "type(1 + 2 * 3)"
   ]
  },
  {
   "cell_type": "markdown",
   "metadata": {
    "lang": "en"
   },
   "source": [
    "What is the value of `4/2` in Python?"
   ]
  },
  {
   "cell_type": "code",
   "execution_count": 13,
   "metadata": {},
   "outputs": [
    {
     "data": {
      "text/plain": [
       "2.0"
      ]
     },
     "execution_count": 13,
     "metadata": {},
     "output_type": "execute_result"
    }
   ],
   "source": [
    "4 / 2"
   ]
  },
  {
   "cell_type": "markdown",
   "metadata": {
    "lang": "en"
   },
   "source": [
    "What is the data type of `4/2` in Python?"
   ]
  },
  {
   "cell_type": "code",
   "execution_count": 14,
   "metadata": {},
   "outputs": [
    {
     "data": {
      "text/plain": [
       "float"
      ]
     },
     "execution_count": 14,
     "metadata": {},
     "output_type": "execute_result"
    }
   ],
   "source": [
    "type(4 / 2)"
   ]
  },
  {
   "cell_type": "markdown",
   "metadata": {
    "lang": "en"
   },
   "source": [
    "What are the value and data type of `1 + 1.0` in Python? Can you determine the data type without using `type`?"
   ]
  },
  {
   "cell_type": "code",
   "execution_count": 15,
   "metadata": {},
   "outputs": [
    {
     "data": {
      "text/plain": [
       "2.0"
      ]
     },
     "execution_count": 15,
     "metadata": {},
     "output_type": "execute_result"
    }
   ],
   "source": [
    "1 + 1.0  # Type is float, as there is a decimal point and fractional digits"
   ]
  },
  {
   "cell_type": "markdown",
   "metadata": {
    "lang": "en"
   },
   "source": [
    "# Pirates\n",
    "\n",
    "According to legend, pirate gangs shared the booty fairly among all pirates. If the booty could not be divided fairly, the captain received the excess share.\n",
    "\n",
    "How many gold doubloons does each pirate of an 8-man gang (7 pirates + 1 captain) receive if a treasure with 1000 gold doubloons has been captured?\n",
    "\n",
    "(Use variables to make the calculation clearer.)"
   ]
  },
  {
   "cell_type": "code",
   "execution_count": 27,
   "metadata": {},
   "outputs": [
    {
     "data": {
      "text/plain": [
       "125"
      ]
     },
     "execution_count": 27,
     "metadata": {},
     "output_type": "execute_result"
    }
   ],
   "source": [
    "number_pirates = 8\n",
    "total_booty = 1000\n",
    "booty_per_pirate = total_booty // number_pirates\n",
    "booty_per_pirate"
   ]
  },
  {
   "cell_type": "markdown",
   "metadata": {
    "lang": "en"
   },
   "source": [
    "How many gold doubloons does the captain get extra?"
   ]
  },
  {
   "cell_type": "code",
   "execution_count": 19,
   "metadata": {},
   "outputs": [
    {
     "data": {
      "text/plain": [
       "10"
      ]
     },
     "execution_count": 19,
     "metadata": {},
     "output_type": "execute_result"
    }
   ],
   "source": [
    "additional_booty_captain = total_booty % number_pirates\n",
    "additional_booty_captain"
   ]
  },
  {
   "cell_type": "markdown",
   "metadata": {
    "lang": "en"
   },
   "source": [
    "The pirate gang takes on 3 new pirate apprentices.\n",
    "\n",
    "How does the division of the booty change?\n",
    "\n",
    "(Use assignments to the existing variables to solve the problem.)"
   ]
  },
  {
   "cell_type": "code",
   "execution_count": 36,
   "metadata": {},
   "outputs": [
    {
     "data": {
      "text/plain": [
       "90"
      ]
     },
     "execution_count": 36,
     "metadata": {},
     "output_type": "execute_result"
    }
   ],
   "source": [
    "# number_pirates += 3   # number_pirates = number_pirates + 3\n",
    "\n",
    "# Better use a contant, in case the cell gets executed more than once.\n",
    "number_pirates = 11\n",
    "\n",
    "booty_per_pirate = total_booty // number_pirates\n",
    "booty_per_pirate"
   ]
  },
  {
   "cell_type": "markdown",
   "metadata": {
    "lang": "en"
   },
   "source": [
    "How many additional gold doubloons does the captain receive in this case?"
   ]
  },
  {
   "cell_type": "code",
   "execution_count": 21,
   "metadata": {},
   "outputs": [
    {
     "data": {
      "text/plain": [
       "10"
      ]
     },
     "execution_count": 21,
     "metadata": {},
     "output_type": "execute_result"
    }
   ],
   "source": [
    "additional_booty_captain = total_booty % number_pirates\n",
    "additional_booty_captain"
   ]
  },
  {
   "cell_type": "markdown",
   "metadata": {
    "lang": "en"
   },
   "source": [
    "# Donations\n",
    "\n",
    "In a fundraising campaign, the TV broadcaster ZRD promised to double every incoming donation. The regional broadcaster YB3 increases every incoming donation by 10 euros. (ZRD doubles before adding the 10 euros from YB3.)\n",
    "\n",
    "Write a Python function `effective_donation(n)`, which calculates the amount effectively donated when a viewer donates $N$ Euro."
   ]
  },
  {
   "cell_type": "code",
   "execution_count": 3,
   "metadata": {},
   "outputs": [],
   "source": [
    "def effective_donation(n):\n",
    "    result = 2 * n + 10\n",
    "    return result"
   ]
  },
  {
   "cell_type": "code",
   "execution_count": 4,
   "metadata": {},
   "outputs": [],
   "source": [
    "def effective_donation(n):\n",
    "    return 2 * n + 10"
   ]
  },
  {
   "cell_type": "code",
   "execution_count": 5,
   "metadata": {},
   "outputs": [
    {
     "data": {
      "text/plain": [
       "30"
      ]
     },
     "execution_count": 5,
     "metadata": {},
     "output_type": "execute_result"
    }
   ],
   "source": [
    "effective_donation(10)"
   ]
  },
  {
   "cell_type": "markdown",
   "metadata": {
    "lang": "en"
   },
   "source": [
    "What is the effective donation if a viewer donates 20 euros?"
   ]
  },
  {
   "cell_type": "code",
   "execution_count": 6,
   "metadata": {},
   "outputs": [
    {
     "name": "stdout",
     "output_type": "stream",
     "text": [
      "Effective donation is 50 Euros\n"
     ]
    }
   ],
   "source": [
    "print(\"Effective donation is\", effective_donation(20), \"Euros\")"
   ]
  },
  {
   "cell_type": "markdown",
   "metadata": {
    "lang": "en"
   },
   "source": [
    "Display the effective donations for 25, 50, 100 and 500 euros on the screen.\n",
    "\n",
    "*Note:* You can complete entries with the `Tab` key. So it is enough if you type\n",
    "\n",
    "`pri` - *Tab* `eff` - *Tab*\n",
    "\n",
    "before typing in the arguments."
   ]
  },
  {
   "cell_type": "code",
   "execution_count": 7,
   "metadata": {},
   "outputs": [
    {
     "name": "stdout",
     "output_type": "stream",
     "text": [
      "30\n",
      "60\n",
      "110\n",
      "210\n",
      "1010\n",
      "2010\n"
     ]
    }
   ],
   "source": [
    "print(effective_donation(10))\n",
    "print(effective_donation(25))\n",
    "print(effective_donation(50))\n",
    "print(effective_donation(100))\n",
    "print(effective_donation(500))\n",
    "print(effective_donation(1000))"
   ]
  },
  {
   "cell_type": "markdown",
   "metadata": {},
   "source": [
    "# Pirates, part 2\n",
    "\n",
    "Your pirate crew threatens to mutiny because it takes too long to calculate the booty shares.\n",
    "\n",
    "Write a function `print_distribution_of_booty(doubloons, pirates)`,\n",
    "which calculates the shares and outputs it in the following format:\n",
    "\n",
    "```\n",
    "Pirates: 8\n",
    "Gold doubloons: 17\n",
    "Each pirate receives: 2 gold doubloon(s)\n",
    "Captain receives extra: 1 gold doubloon(s)\n",
    "```"
   ]
  },
  {
   "cell_type": "code",
   "execution_count": 12,
   "metadata": {},
   "outputs": [
    {
     "name": "stdout",
     "output_type": "stream",
     "text": [
      "Pirates: 8\n",
      "Gold doubloons: 17\n",
      "Each pirate receives: 2 gold doubloons(s)\n",
      "Captain receives extra: 1 gold doubloons(s)\n"
     ]
    }
   ],
   "source": [
    "def print_distribution_of_booty(doubloons, pirates):\n",
    "    doubloons_per_pirate = doubloons // pirates\n",
    "    additional_doubloons_captain = doubloons % pirates\n",
    "    print('Pirates:', pirates)\n",
    "    print('Gold doubloons:', doubloons)\n",
    "    print('Each pirate receives:', doubloons_per_pirate, 'gold doubloons(s)')\n",
    "    print('Captain receives extra:', additional_doubloons_captain, 'gold doubloons(s)')\n",
    "\n",
    "print_distribution_of_booty(17, 8)"
   ]
  },
  {
   "cell_type": "markdown",
   "metadata": {
    "lang": "en"
   },
   "source": [
    "# Pirates, part 3\n",
    "\n",
    "After the threat of mutiny is over, you have time to spend on improving your software.\n",
    "\n",
    "Write down a function `split_booty(doubloons, pirates)` which returns the booty share of each pirate and the captain's extra loot as two values."
   ]
  },
  {
   "cell_type": "code",
   "execution_count": 29,
   "metadata": {},
   "outputs": [],
   "source": [
    "def split_booty(doubloons, pirates):\n",
    "    doubloons_per_pirate = doubloons // pirates\n",
    "    additional_doubloons_captain = doubloons % pirates\n",
    "    return doubloons_per_pirate, additional_doubloons_captain"
   ]
  },
  {
   "cell_type": "code",
   "execution_count": 30,
   "metadata": {},
   "outputs": [
    {
     "name": "stdout",
     "output_type": "stream",
     "text": [
      "90\n",
      "10\n"
     ]
    }
   ],
   "source": [
    "doubloons_per_pirate, additional_doubloons_captain = split_booty(1000, 11)\n",
    "print(doubloons_per_pirate)\n",
    "print(additional_doubloons_captain)"
   ]
  },
  {
   "cell_type": "code",
   "execution_count": 31,
   "metadata": {},
   "outputs": [],
   "source": [
    "def split_booty(doubloons, pirates):\n",
    "    return divmod(doubloons, pirates)"
   ]
  },
  {
   "cell_type": "code",
   "execution_count": 15,
   "metadata": {},
   "outputs": [
    {
     "name": "stdout",
     "output_type": "stream",
     "text": [
      "90\n",
      "10\n"
     ]
    }
   ],
   "source": [
    "doubloons_per_pirate, additional_doubloons_captain = split_booty(1000, 11)\n",
    "print(doubloons_per_pirate)\n",
    "print(additional_doubloons_captain)"
   ]
  },
  {
   "cell_type": "markdown",
   "metadata": {
    "lang": "en"
   },
   "source": [
    "Write an improved version of the function `print_distribution_of_booty()`, which uses `split_booty()` as an auxiliary function."
   ]
  },
  {
   "cell_type": "code",
   "execution_count": 32,
   "metadata": {},
   "outputs": [
    {
     "name": "stdout",
     "output_type": "stream",
     "text": [
      "Pirates: 11\n",
      "Gold doubloons: 1000\n",
      "Each pirate receives: 90 gold doubloons(s)\n",
      "Captain receives extra: 10 gold doubloons(s)\n"
     ]
    }
   ],
   "source": [
    "def print_distribution_of_booty(doubloons, pirates):\n",
    "    doubloons_per_pirate, additional_doubloons_captain = split_booty(doubloons, pirates)\n",
    "    print('Pirates:', pirates)\n",
    "    print('Gold doubloons:', doubloons)\n",
    "    print('Each pirate receives:', doubloons_per_pirate, 'gold doubloons(s)')\n",
    "    print('Captain receives extra:', additional_doubloons_captain, 'gold doubloons(s)')\n",
    "\n",
    "print_distribution_of_booty(1000, 11)"
   ]
  },
  {
   "cell_type": "markdown",
   "metadata": {
    "lang": "en"
   },
   "source": [
    "# Operators, comparisons\n",
    "\n",
    "Is $2^{16}$ bigger than $32\\,000\\,\\,/\\,\\,2$?"
   ]
  },
  {
   "cell_type": "code",
   "execution_count": 33,
   "metadata": {},
   "outputs": [
    {
     "data": {
      "text/plain": [
       "True"
      ]
     },
     "execution_count": 33,
     "metadata": {},
     "output_type": "execute_result"
    }
   ],
   "source": [
    "2 ** 16 > (32_000 / 2)"
   ]
  },
  {
   "cell_type": "markdown",
   "metadata": {
    "lang": "en"
   },
   "source": [
    "Is $72$ divisible by $3$ without a remainder?"
   ]
  },
  {
   "cell_type": "code",
   "execution_count": 34,
   "metadata": {},
   "outputs": [
    {
     "data": {
      "text/plain": [
       "True"
      ]
     },
     "execution_count": 34,
     "metadata": {},
     "output_type": "execute_result"
    }
   ],
   "source": [
    "72 % 3 == 0"
   ]
  },
  {
   "cell_type": "markdown",
   "metadata": {
    "lang": "en"
   },
   "source": [
    "Is $72$ an even number (i.e. divisible by 2 without a remainder)?"
   ]
  },
  {
   "cell_type": "code",
   "execution_count": 35,
   "metadata": {},
   "outputs": [
    {
     "data": {
      "text/plain": [
       "True"
      ]
     },
     "execution_count": 35,
     "metadata": {},
     "output_type": "execute_result"
    }
   ],
   "source": [
    "72 % 2 == 0 "
   ]
  },
  {
   "cell_type": "markdown",
   "metadata": {
    "lang": "en"
   },
   "source": [
    "Write a function `is_divisible_by(m, n)` which returns `True` if and only if `m` is divisible by `n`"
   ]
  },
  {
   "cell_type": "code",
   "execution_count": 36,
   "metadata": {},
   "outputs": [
    {
     "data": {
      "text/plain": [
       "True"
      ]
     },
     "execution_count": 36,
     "metadata": {},
     "output_type": "execute_result"
    }
   ],
   "source": [
    "def is_divisible_by(m, n):\n",
    "    return m % n == 0\n",
    "\n",
    "is_divisible_by(6, 2)"
   ]
  },
  {
   "cell_type": "markdown",
   "metadata": {
    "lang": "en"
   },
   "source": [
    "Write a function `is_divisible_by_2_and_3(n)`, which returns `True` if and only if `n` is divisible by $2$ and $3$ without a remainder."
   ]
  },
  {
   "cell_type": "code",
   "execution_count": 37,
   "metadata": {},
   "outputs": [],
   "source": [
    "def is_divisible_by_2_and_3(n):\n",
    "    return is_divisible_by(n, 2) and is_divisible_by(n, 3)"
   ]
  },
  {
   "cell_type": "code",
   "execution_count": 38,
   "metadata": {},
   "outputs": [],
   "source": [
    "def is_divisible_by_2_and_3_v2(n):\n",
    "    return n % 6 == 0"
   ]
  },
  {
   "cell_type": "markdown",
   "metadata": {
    "lang": "en"
   },
   "source": [
    "Test whether $72$ is divisible by $2$ and $3$."
   ]
  },
  {
   "cell_type": "code",
   "execution_count": 39,
   "metadata": {},
   "outputs": [
    {
     "data": {
      "text/plain": [
       "True"
      ]
     },
     "execution_count": 39,
     "metadata": {},
     "output_type": "execute_result"
    }
   ],
   "source": [
    "is_divisible_by_2_and_3(72)"
   ]
  },
  {
   "cell_type": "markdown",
   "metadata": {
    "lang": "en"
   },
   "source": [
    "Is `Abc` smaller than `aBC`?"
   ]
  },
  {
   "cell_type": "code",
   "execution_count": 40,
   "metadata": {},
   "outputs": [
    {
     "data": {
      "text/plain": [
       "True"
      ]
     },
     "execution_count": 40,
     "metadata": {},
     "output_type": "execute_result"
    }
   ],
   "source": [
    "'Abc' < 'aBC'"
   ]
  },
  {
   "cell_type": "markdown",
   "metadata": {
    "lang": "en"
   },
   "source": [
    "Is `abc` less than `abcd` and `abcd` less than `abd` at the same time?"
   ]
  },
  {
   "cell_type": "code",
   "execution_count": 41,
   "metadata": {},
   "outputs": [
    {
     "data": {
      "text/plain": [
       "True"
      ]
     },
     "execution_count": 41,
     "metadata": {},
     "output_type": "execute_result"
    }
   ],
   "source": [
    "'abc' < 'abcd' < 'abd'"
   ]
  },
  {
   "cell_type": "markdown",
   "metadata": {
    "lang": "en"
   },
   "source": [
    "# Strings 1\n",
    "\n",
    "Write a function `print_greeting(name)` that prints a personalized greeting, e.g.\n",
    "```\n",
    "Hello Hans!\n",
    "Nice to see you again today.\n",
    "We wish you a lot of fun, Hans.\n",
    "```\n",
    "Use the `print()` function with one argument and string concatenation."
   ]
  },
  {
   "cell_type": "code",
   "execution_count": 42,
   "metadata": {
    "scrolled": true
   },
   "outputs": [
    {
     "name": "stdout",
     "output_type": "stream",
     "text": [
      "Hallo, Hans!\n",
      "Schön Sie heute wieder bei uns begrüßen zu dürfen.\n",
      "Wir wünschen Ihnen viel Spaß, Hans.\n"
     ]
    }
   ],
   "source": [
    "def drucke_begrüßung(name):\n",
    "    print('Hallo, ' + name + '!')\n",
    "    print('Schön Sie heute wieder bei uns begrüßen zu dürfen.')\n",
    "    print('Wir wünschen Ihnen viel Spaß, ' + name + '.')\n",
    "\n",
    "drucke_begrüßung('Hans')"
   ]
  },
  {
   "cell_type": "code",
   "execution_count": 43,
   "metadata": {},
   "outputs": [
    {
     "name": "stdout",
     "output_type": "stream",
     "text": [
      "Hallo, Sepp!\n",
      "Schön Sie heute wieder bei uns begrüßen zu dürfen.\n",
      "Wir wünschen Ihnen viel Spaß, Sepp.\n"
     ]
    }
   ],
   "source": [
    "def drucke_begrüßung_2(name):\n",
    "    print(f'Hallo, {name}!')\n",
    "    print('Schön Sie heute wieder bei uns begrüßen zu dürfen.')\n",
    "    print(f'Wir wünschen Ihnen viel Spaß, {name}.')\n",
    "\n",
    "drucke_begrüßung_2(\"Sepp\")"
   ]
  },
  {
   "cell_type": "markdown",
   "metadata": {
    "lang": "en"
   },
   "source": [
    "# Pirates, part 4\n",
    "\n",
    "Printing out the booty allocation and using `print_distribution_of_booty(doubloons, pirates)` uses too much paper.\n",
    "\n",
    "Implement a new version of the function that outputs the following text:\n",
    "\n",
    "```\n",
    "Each of the 8 pirates receives 2 of the 17 gold doubloons. The captain receives an extra 1 gold doubloon(s).\n",
    "```\n",
    "Use F-strings to generate the output text."
   ]
  },
  {
   "cell_type": "code",
   "execution_count": 46,
   "metadata": {},
   "outputs": [
    {
     "name": "stdout",
     "output_type": "stream",
     "text": [
      "Each of the 11 pirates receives 90 of the 1000 gold doubloons. The captain receives an extra 10 gold doubloon(s).\n",
      "Each of the 8 pirates receives 2 of the 17 gold doubloons. The captain receives an extra 1 gold doubloon(s).\n"
     ]
    }
   ],
   "source": [
    "def print_distribution_of_booty(doubloons, pirates):\n",
    "    doubloons_per_pirate, additional_doubloons_captain = split_booty(doubloons, pirates)\n",
    "    print(f'''\\\n",
    "Each of the {pirates} pirates receives {doubloons_per_pirate} of the {doubloons} gold doubloons. \\\n",
    "The captain receives an extra {additional_doubloons_captain} gold doubloon(s).''')\n",
    "\n",
    "print_distribution_of_booty(1000, 11)\n",
    "print_distribution_of_booty(17, 8)"
   ]
  },
  {
   "cell_type": "code",
   "execution_count": 50,
   "metadata": {},
   "outputs": [],
   "source": [
    "def print_distribution_of_booty(doubloons, pirates):\n",
    "    doubloons_per_pirate, additional_doubloons_captain = split_booty(doubloons, pirates)\n",
    "    print(f'Each of the {pirates} pirates receives '\n",
    "          f'{doubloons_per_pirate} of the {doubloons} gold doubloons. '\n",
    "          f'The captain receives an extra {additional_doubloons_captain} '\n",
    "          f'gold doubloon(s).')"
   ]
  },
  {
   "cell_type": "code",
   "execution_count": 51,
   "metadata": {},
   "outputs": [
    {
     "name": "stdout",
     "output_type": "stream",
     "text": [
      "Each of the 11 pirates receives 90 of the 1000 gold doubloons. The captain receives an extra 10 gold doubloon(s).\n",
      "Each of the 8 pirates receives 2 of the 17 gold doubloons. The captain receives an extra 1 gold doubloon(s).\n"
     ]
    }
   ],
   "source": [
    "print_distribution_of_booty(1000, 11)\n",
    "print_distribution_of_booty(17, 8)"
   ]
  },
  {
   "cell_type": "code",
   "execution_count": null,
   "metadata": {},
   "outputs": [],
   "source": []
  }
 ],
 "metadata": {
  "kernelspec": {
   "display_name": "Python [conda env:ml-course] *",
   "language": "python",
   "name": "conda-env-ml-course-py"
  },
  "language_info": {
   "codemirror_mode": {
    "name": "ipython",
    "version": 3
   },
   "file_extension": ".py",
   "mimetype": "text/x-python",
   "name": "python",
   "nbconvert_exporter": "python",
   "pygments_lexer": "ipython3",
   "version": "3.8.5"
  },
  "nbTranslate": {
   "displayLangs": [
    "*"
   ],
   "hotkey": "alt-t",
   "langInMainMenu": true,
   "sourceLang": "de",
   "targetLang": "en",
   "useGoogleTranslate": true
  }
 },
 "nbformat": 4,
 "nbformat_minor": 2
}
