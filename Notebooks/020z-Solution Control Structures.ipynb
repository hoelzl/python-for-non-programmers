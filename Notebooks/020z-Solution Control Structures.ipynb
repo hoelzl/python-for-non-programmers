{
 "cells": [
  {
   "cell_type": "markdown",
   "metadata": {},
   "source": [
    "# Of legal age\n",
    "\n",
    "Write a function `print_of_legal_age(age)` which prints `of legal age` on the screen if `age> = 18` and `minor` otherwise."
   ]
  },
  {
   "cell_type": "code",
   "execution_count": 1,
   "metadata": {},
   "outputs": [],
   "source": [
    "def print_of_legal_age(age):\n",
    "    if age < 18:\n",
    "        print(\"minor\")\n",
    "    else:\n",
    "        print(\"of legal age\")"
   ]
  },
  {
   "cell_type": "markdown",
   "metadata": {},
   "source": [
    "Testen You `print_of_legal_age(age)` mit den Werten 17 und 18."
   ]
  },
  {
   "cell_type": "code",
   "execution_count": 2,
   "metadata": {},
   "outputs": [
    {
     "name": "stdout",
     "output_type": "stream",
     "text": [
      "Minderjährig\n",
      "Volljährig\n"
     ]
    }
   ],
   "source": [
    "print_of_legal_age(17)\n",
    "print_of_legal_age(18)"
   ]
  },
  {
   "cell_type": "markdown",
   "metadata": {},
   "source": [
    "# Even number\n",
    "\n",
    "Write a function `is_even(number)` that returns `True` if `number` is even and `False` if `number` is odd."
   ]
  },
  {
   "cell_type": "code",
   "execution_count": 1,
   "metadata": {},
   "outputs": [],
   "source": [
    "def is_even(number):\n",
    "    return number % 2 == 0"
   ]
  },
  {
   "cell_type": "markdown",
   "metadata": {},
   "source": [
    "Write a function `print_is_even(number)` that displays\n",
    "\n",
    "- `{number} is even.` if `number` is even and\n",
    "- `{number} is odd.` if `number` is not even."
   ]
  },
  {
   "cell_type": "code",
   "execution_count": 2,
   "metadata": {},
   "outputs": [],
   "source": [
    "def print_is_even(number):\n",
    "    if is_even(number):\n",
    "        print(f\"{number} is even.\")\n",
    "    else:\n",
    "        print(f\"{number} ist odd.\")"
   ]
  },
  {
   "cell_type": "markdown",
   "metadata": {},
   "source": [
    "Testen You `print_is_even(number)` mit den Werten 0, 1 und 8."
   ]
  },
  {
   "cell_type": "code",
   "execution_count": 5,
   "metadata": {},
   "outputs": [
    {
     "name": "stdout",
     "output_type": "stream",
     "text": [
      "0 ist gerade.\n",
      "1 ist nicht gerade.\n",
      "8 ist gerade.\n"
     ]
    }
   ],
   "source": [
    "print_is_even(0)\n",
    "print_is_even(1)\n",
    "print_is_even(8)"
   ]
  },
  {
   "cell_type": "markdown",
   "metadata": {},
   "source": [
    "# Positive / negative\n",
    "\n",
    "Write a function `print_is_positive(number)` that prints\n",
    "\n",
    "- `{number} is positive.` if `number > 0`,\n",
    "- `{number} is zero.` if `number == 0`,\n",
    "- `{number} is negative.` if `number < 0`."
   ]
  },
  {
   "cell_type": "code",
   "execution_count": 3,
   "metadata": {},
   "outputs": [],
   "source": [
    "def print_is_positive(number):\n",
    "    if number > 0:\n",
    "        print(f\"{number} is positive.\")\n",
    "    elif number < 0:\n",
    "        print(f\"{number} is negative.\")\n",
    "    else:\n",
    "        print(\"0 is zero\")"
   ]
  },
  {
   "cell_type": "markdown",
   "metadata": {},
   "source": [
    "Test the function for representative values."
   ]
  },
  {
   "cell_type": "code",
   "execution_count": 4,
   "metadata": {},
   "outputs": [
    {
     "name": "stdout",
     "output_type": "stream",
     "text": [
      "-3 is negative.\n",
      "0 is zero\n",
      "2 is positive.\n"
     ]
    }
   ],
   "source": [
    "print_is_positive(-3)\n",
    "print_is_positive(0)\n",
    "print_is_positive(2)"
   ]
  },
  {
   "cell_type": "code",
   "execution_count": 5,
   "metadata": {},
   "outputs": [],
   "source": [
    "def classify_positive_negative(number):\n",
    "    if number > 0:\n",
    "        return f\"{number} is positive.\"\n",
    "    elif number < 0:\n",
    "        return f\"{number} is negative.\"\n",
    "    else:\n",
    "        return \"0 is zero.\"\n",
    "\n",
    "def print_is_positive_2(number):\n",
    "    print(classify_positive_negative(number))"
   ]
  },
  {
   "cell_type": "code",
   "execution_count": 6,
   "metadata": {},
   "outputs": [
    {
     "name": "stdout",
     "output_type": "stream",
     "text": [
      "-3 is negative.\n",
      "0 is zero.\n",
      "2 is positive.\n"
     ]
    }
   ],
   "source": [
    "print_is_positive_2(-3)\n",
    "print_is_positive_2(0)\n",
    "print_is_positive_2(2)"
   ]
  },
  {
   "cell_type": "markdown",
   "metadata": {},
   "source": [
    "# Signum\n",
    "\n",
    "Write a function `signum(number)` that returns\n",
    "\n",
    "- 1 if `number > 0`,\n",
    "- 0 if `number == 0`,\n",
    "- -1 if `number < 0`."
   ]
  },
  {
   "cell_type": "code",
   "execution_count": 7,
   "metadata": {},
   "outputs": [],
   "source": [
    "def signum(number):\n",
    "    if number > 0:\n",
    "        return 1\n",
    "    elif number == 0:\n",
    "        return 0\n",
    "    else:\n",
    "        return -1"
   ]
  },
  {
   "cell_type": "markdown",
   "metadata": {},
   "source": [
    "Test the function for representative values."
   ]
  },
  {
   "cell_type": "code",
   "execution_count": 9,
   "metadata": {},
   "outputs": [
    {
     "data": {
      "text/plain": [
       "-1"
      ]
     },
     "execution_count": 9,
     "metadata": {},
     "output_type": "execute_result"
    }
   ],
   "source": [
    "signum(-10)"
   ]
  },
  {
   "cell_type": "code",
   "execution_count": 10,
   "metadata": {},
   "outputs": [
    {
     "data": {
      "text/plain": [
       "0"
      ]
     },
     "execution_count": 10,
     "metadata": {},
     "output_type": "execute_result"
    }
   ],
   "source": [
    "signum(0)"
   ]
  },
  {
   "cell_type": "code",
   "execution_count": 11,
   "metadata": {},
   "outputs": [
    {
     "data": {
      "text/plain": [
       "1"
      ]
     },
     "execution_count": 11,
     "metadata": {},
     "output_type": "execute_result"
    }
   ],
   "source": [
    "signum(2)"
   ]
  },
  {
   "cell_type": "markdown",
   "metadata": {},
   "source": [
    "# Conversion into miles\n",
    "\n",
    "Write a function `convert_km_to_miles(km)` which converts the value `km` from kilometers to miles (i.e. which returns the value in miles).\n",
    "\n",
    "*Note:*\n",
    "- One kilometer equals $0,621371$ miles"
   ]
  },
  {
   "cell_type": "code",
   "execution_count": 8,
   "metadata": {},
   "outputs": [],
   "source": [
    "def convert_km_to_miles(km):\n",
    "    return km * 0.621371"
   ]
  },
  {
   "cell_type": "markdown",
   "metadata": {},
   "source": [
    "Test `convert_km_to_miles(km)` for 1 and 5 km."
   ]
  },
  {
   "cell_type": "code",
   "execution_count": 9,
   "metadata": {},
   "outputs": [
    {
     "data": {
      "text/plain": [
       "0.621371"
      ]
     },
     "execution_count": 9,
     "metadata": {},
     "output_type": "execute_result"
    }
   ],
   "source": [
    "convert_km_to_miles(1)"
   ]
  },
  {
   "cell_type": "code",
   "execution_count": 10,
   "metadata": {},
   "outputs": [
    {
     "data": {
      "text/plain": [
       "3.106855"
      ]
     },
     "execution_count": 10,
     "metadata": {},
     "output_type": "execute_result"
    }
   ],
   "source": [
    "convert_km_to_miles(5)"
   ]
  },
  {
   "cell_type": "markdown",
   "metadata": {},
   "source": [
    "Write a function `convert_distance()`, which reads in a length in kilometers and outputs the equivalent distance in miles.\n",
    "\n",
    "*Notes*\n",
    "- A string can be converted into a float value with `float()`."
   ]
  },
  {
   "cell_type": "code",
   "execution_count": 11,
   "metadata": {},
   "outputs": [],
   "source": [
    "def convert_distance():\n",
    "    km = input(\"Please enter a distance in km: \")\n",
    "    if km != \"\":\n",
    "        miles = convert_km_to_miles(float(km))\n",
    "        print(f\"{km} km are {miles} miles.\")\n",
    "    else:\n",
    "        print(\"Please enter a valid distance in km.\")"
   ]
  },
  {
   "cell_type": "code",
   "execution_count": 12,
   "metadata": {},
   "outputs": [
    {
     "name": "stdout",
     "output_type": "stream",
     "text": [
      "Please enter a distance in km: 10\n",
      "10 km are 6.21371 miles\n"
     ]
    }
   ],
   "source": [
    "# convert_distance()"
   ]
  },
  {
   "cell_type": "markdown",
   "metadata": {},
   "source": [
    "# Conversion to miles with truthiness\n",
    "\n",
    "Write a function `convert_distance_ 2` that behaves like `convert_distance` but exploits the truthiness of strings."
   ]
  },
  {
   "cell_type": "code",
   "execution_count": 13,
   "metadata": {},
   "outputs": [],
   "source": [
    "def convert_distance_2():\n",
    "    km = input(\"Please enter a distance in km: \")\n",
    "    if km:\n",
    "        miles = convert_km_to_miles(float(km))\n",
    "        print(f\"{km} km are {miles} miles\")\n",
    "    else:\n",
    "        print(\"Please enter a valid distance in km.\")"
   ]
  },
  {
   "cell_type": "code",
   "execution_count": 18,
   "metadata": {},
   "outputs": [],
   "source": [
    "# convert_distance_2()"
   ]
  },
  {
   "cell_type": "markdown",
   "metadata": {},
   "source": [
    "# Cinema price\n",
    "\n",
    "The Python cinema has the following entrance fees:\n",
    "\n",
    "- Infants under 2 years are free.\n",
    "- Children from 2-12 years pay 2 euros.\n",
    "- Teenagers aged 13-17 pay 5 euros.\n",
    "- Adults pay 10 euros.\n",
    "- Pensioners (65+) pay 6 euros.\n",
    "\n",
    "Write a function `cinema_price(age)` that calculates and returns the price as a function of age."
   ]
  },
  {
   "cell_type": "code",
   "execution_count": 14,
   "metadata": {},
   "outputs": [],
   "source": [
    "def cinema_price(age):\n",
    "    if (age < 2):\n",
    "        return 0\n",
    "    elif age <= 12:\n",
    "        return 2\n",
    "    elif age <= 17:\n",
    "        return 5\n",
    "    elif age < 65:\n",
    "        return 10\n",
    "    else:\n",
    "        return 6"
   ]
  },
  {
   "cell_type": "markdown",
   "metadata": {},
   "source": [
    "Test the function `cinema_price()` for some representative values."
   ]
  },
  {
   "cell_type": "code",
   "execution_count": 15,
   "metadata": {},
   "outputs": [
    {
     "data": {
      "text/plain": [
       "0"
      ]
     },
     "execution_count": 15,
     "metadata": {},
     "output_type": "execute_result"
    }
   ],
   "source": [
    "cinema_price(1)"
   ]
  },
  {
   "cell_type": "code",
   "execution_count": 16,
   "metadata": {},
   "outputs": [
    {
     "data": {
      "text/plain": [
       "2"
      ]
     },
     "execution_count": 16,
     "metadata": {},
     "output_type": "execute_result"
    }
   ],
   "source": [
    "cinema_price(7)"
   ]
  },
  {
   "cell_type": "code",
   "execution_count": 17,
   "metadata": {},
   "outputs": [
    {
     "data": {
      "text/plain": [
       "5"
      ]
     },
     "execution_count": 17,
     "metadata": {},
     "output_type": "execute_result"
    }
   ],
   "source": [
    "cinema_price(15)"
   ]
  },
  {
   "cell_type": "code",
   "execution_count": 18,
   "metadata": {},
   "outputs": [
    {
     "data": {
      "text/plain": [
       "10"
      ]
     },
     "execution_count": 18,
     "metadata": {},
     "output_type": "execute_result"
    }
   ],
   "source": [
    "cinema_price(25)"
   ]
  },
  {
   "cell_type": "code",
   "execution_count": 19,
   "metadata": {},
   "outputs": [
    {
     "data": {
      "text/plain": [
       "6"
      ]
     },
     "execution_count": 19,
     "metadata": {},
     "output_type": "execute_result"
    }
   ],
   "source": [
    "cinema_price(70)"
   ]
  },
  {
   "cell_type": "markdown",
   "metadata": {},
   "source": [
    "Write a function `print_cinema_price(age)`, which prints a text of the following kind on the screen:\n",
    "\n",
    "```\n",
    "You are 1 year old. Your price is 5 euros.\n",
    "You are 15 years old. Your price is 5 euros.\n",
    "```"
   ]
  },
  {
   "cell_type": "code",
   "execution_count": 22,
   "metadata": {},
   "outputs": [],
   "source": [
    "def print_cinema_price(age):\n",
    "    price = cinema_price(age)\n",
    "    if age == 1:\n",
    "        print(f\"You are 1 year old. Your price is {price} Euros.\")        \n",
    "    else:\n",
    "        print(f\"You are {age} years old. Your price is {price} Euro.\")"
   ]
  },
  {
   "cell_type": "markdown",
   "metadata": {},
   "source": [
    "Test `print_cinema_price(age)` for representative values."
   ]
  },
  {
   "cell_type": "code",
   "execution_count": 23,
   "metadata": {},
   "outputs": [
    {
     "name": "stdout",
     "output_type": "stream",
     "text": [
      "You are 1 year old. Your price is 0 Euros.\n",
      "You are 7 years old. Your price is 2 Euro.\n",
      "You are 15 years old. Your price is 5 Euro.\n",
      "You are 25 years old. Your price is 10 Euro.\n",
      "You are 70 years old. Your price is 6 Euro.\n"
     ]
    }
   ],
   "source": [
    "print_cinema_price(1)\n",
    "print_cinema_price(7)\n",
    "print_cinema_price(15)\n",
    "print_cinema_price(25)\n",
    "print_cinema_price(70)"
   ]
  },
  {
   "cell_type": "markdown",
   "metadata": {},
   "source": [
    "Write a function `cinema_app()` that reads in an age and outputs the cinema price for a person of this age in the format just described. Two sample interactions:\n",
    "\n",
    "```\n",
    "How old are you? 37\n",
    "You are 37 years old. Your price is 10 euros.\n",
    "\n",
    "How old are you? 12\n",
    "You are 12 years old. Your price is 2 euros.\n",
    "```"
   ]
  },
  {
   "cell_type": "code",
   "execution_count": 26,
   "metadata": {},
   "outputs": [],
   "source": [
    "def cinema_app():\n",
    "    age = input(\"How old are you? \")\n",
    "    if age:\n",
    "        print_cinema_price(int(age))\n",
    "    else:\n",
    "        \"Please enter a valid age.\""
   ]
  },
  {
   "cell_type": "markdown",
   "metadata": {},
   "source": [
    "Test the function `cinema_app()` interactively."
   ]
  },
  {
   "cell_type": "code",
   "execution_count": 28,
   "metadata": {},
   "outputs": [],
   "source": [
    "# cinema_app()"
   ]
  },
  {
   "cell_type": "markdown",
   "metadata": {},
   "source": [
    "# Shout\n",
    "\n",
    "Write a function `shout(text)` that prints `text` in uppercase, followed by three exclamation marks on the screen."
   ]
  },
  {
   "cell_type": "code",
   "execution_count": 27,
   "metadata": {},
   "outputs": [],
   "source": [
    "def shout(text):\n",
    "    print(f\"{text.upper()}!!!\")"
   ]
  },
  {
   "cell_type": "markdown",
   "metadata": {},
   "source": [
    "Test the function with the argument `\"Hello\"`"
   ]
  },
  {
   "cell_type": "code",
   "execution_count": 28,
   "metadata": {},
   "outputs": [
    {
     "name": "stdout",
     "output_type": "stream",
     "text": [
      "HELLO!!!\n"
     ]
    }
   ],
   "source": [
    "shout(\"Hello\")"
   ]
  },
  {
   "cell_type": "markdown",
   "metadata": {},
   "source": [
    "# Guessing games\n",
    "\n",
    "The following simple \"games\" allow the player an unlimited number of inputs. Therefore, it makes sense to implement it with a while loop."
   ]
  },
  {
   "cell_type": "markdown",
   "metadata": {},
   "source": [
    "### Guessing a word\n",
    "\n",
    "Implement a function `guess_word(solution)` that asks the user for a word until the entered word matches the answer."
   ]
  },
  {
   "cell_type": "code",
   "execution_count": 29,
   "metadata": {},
   "outputs": [],
   "source": [
    "def guess_word(solution):\n",
    "    guess = input(\"Please enter a word: \")\n",
    "    while guess != solution:\n",
    "        guess = input(\"Try again: \")\n",
    "    print(\"Exactly!\")"
   ]
  },
  {
   "cell_type": "code",
   "execution_count": 30,
   "metadata": {},
   "outputs": [
    {
     "name": "stdout",
     "output_type": "stream",
     "text": [
      "Please enter a word: tree\n",
      "Try again: broom\n",
      "Try again: garden\n",
      "Try again: house\n",
      "Exactly!\n"
     ]
    }
   ],
   "source": [
    "# guess_word(\"house\")"
   ]
  },
  {
   "cell_type": "markdown",
   "metadata": {},
   "source": [
    "### Number guessing\n",
    "\n",
    "Implement a function `guess_number(solution)` that asks the user for a number until he has guessed the solution. After each entry, the user should be shown whether the entered number is too large, too small or correct."
   ]
  },
  {
   "cell_type": "code",
   "execution_count": 31,
   "metadata": {},
   "outputs": [],
   "source": [
    "def guess_number(solution):\n",
    "    guess = int(input(\"Please enter a number: \"))\n",
    "    while guess != solution:\n",
    "        if guess < solution:\n",
    "            print(f\"{guess} is too small.\")\n",
    "        else:\n",
    "            print(f\"{guess} is too large.\")\n",
    "        guess = int(input(\"Try again: \"))\n",
    "    print(\"You win!\")"
   ]
  },
  {
   "cell_type": "code",
   "execution_count": 32,
   "metadata": {},
   "outputs": [
    {
     "name": "stdout",
     "output_type": "stream",
     "text": [
      "Please enter a number: 2\n",
      "2 is too small.\n",
      "Try again: 100\n",
      "100 is too large.\n",
      "Try again: 23\n",
      "You win!\n"
     ]
    }
   ],
   "source": [
    "# guess_number(23)"
   ]
  },
  {
   "cell_type": "code",
   "execution_count": 33,
   "metadata": {},
   "outputs": [],
   "source": [
    "def guess_number_2(solution):\n",
    "    while True:\n",
    "        guess = int(input(\"Please enter a number: \"))\n",
    "        if guess < solution:\n",
    "            print(f\"{guess} is too small.\")\n",
    "        elif guess > solution:\n",
    "            print(f\"{guess} is too large.\")\n",
    "        else:\n",
    "            break\n",
    "    print(\"You win!\")"
   ]
  },
  {
   "cell_type": "code",
   "execution_count": 34,
   "metadata": {},
   "outputs": [
    {
     "name": "stdout",
     "output_type": "stream",
     "text": [
      "Please enter a number: 1\n",
      "1 is too small.\n",
      "Please enter a number: 99\n",
      "99 is too large.\n",
      "Please enter a number: 23\n",
      "You win!\n"
     ]
    }
   ],
   "source": [
    "guess_number_2(23)"
   ]
  },
  {
   "cell_type": "markdown",
   "metadata": {},
   "source": [
    "How do you have to modify your solution so that the player can abort the game by entering an empty string?"
   ]
  },
  {
   "cell_type": "code",
   "execution_count": 35,
   "metadata": {},
   "outputs": [],
   "source": [
    "def guess_number_1(solution):\n",
    "    guess = input(\"Please enter a number: \")\n",
    "    while guess and int(guess) != solution:\n",
    "        if int(guess) < solution:\n",
    "            print(f\"{guess} is too small.\")\n",
    "        else:\n",
    "            print(f\"{guess} is too large.\")\n",
    "        guess = input(\"Try again: \")\n",
    "    if guess:\n",
    "        print(\"You win!\")\n",
    "    else:\n",
    "        print(\"Giving up is lame!\")"
   ]
  },
  {
   "cell_type": "code",
   "execution_count": 36,
   "metadata": {},
   "outputs": [
    {
     "name": "stdout",
     "output_type": "stream",
     "text": [
      "Please enter a number: \n",
      "Giving up is lame!\n"
     ]
    }
   ],
   "source": [
    "guess_number_1(23)"
   ]
  },
  {
   "cell_type": "markdown",
   "metadata": {},
   "source": [
    "Solution using classify number:"
   ]
  },
  {
   "cell_type": "code",
   "execution_count": 37,
   "metadata": {},
   "outputs": [],
   "source": [
    "def classify_number(guess, solution):\n",
    "    if guess < solution:\n",
    "        return False, \"{guess} is too small! \"\n",
    "    elif guess > solution:\n",
    "        return False, \"{guess} is too large! \"\n",
    "    else:\n",
    "        return True, \"You win!\""
   ]
  },
  {
   "cell_type": "code",
   "execution_count": 38,
   "metadata": {},
   "outputs": [],
   "source": [
    "def guess_number_2(solution):\n",
    "    guess = input(\"Please enter a number: \")\n",
    "    success, message = classify_number(int(guess), solution)\n",
    "    while not success:\n",
    "        guess = input(message)\n",
    "        success, message = classify_number(int(guess), solution)\n",
    "    print(\"You win!\")"
   ]
  },
  {
   "cell_type": "code",
   "execution_count": 1,
   "metadata": {},
   "outputs": [],
   "source": [
    "# guess_number_2(23)"
   ]
  },
  {
   "cell_type": "markdown",
   "metadata": {},
   "source": [
    "# Sum of positive numbers\n",
    "\n",
    "Write a function `positive_sum(lhs: int, rhs: int) -> int` that returns the sum of `lhs` and `rhs` if both are positive numbers and throws an exception of type `ValueError` if one of the numbers is negative.\n",
    "\n",
    "*Note:* You do not need to check that the two numbers are integers."
   ]
  },
  {
   "cell_type": "code",
   "execution_count": 39,
   "metadata": {},
   "outputs": [],
   "source": [
    "def positive_sum(lhs, rhs):\n",
    "    if lhs < 0 or rhs < 0:\n",
    "        raise ValueError(\"Negative number\")\n",
    "    else:\n",
    "        return lhs + rhs"
   ]
  },
  {
   "cell_type": "code",
   "execution_count": 40,
   "metadata": {},
   "outputs": [
    {
     "data": {
      "text/plain": [
       "6"
      ]
     },
     "execution_count": 40,
     "metadata": {},
     "output_type": "execute_result"
    }
   ],
   "source": [
    "positive_sum(2, 4)"
   ]
  },
  {
   "cell_type": "code",
   "execution_count": 41,
   "metadata": {},
   "outputs": [
    {
     "data": {
      "text/plain": [
       "0"
      ]
     },
     "execution_count": 41,
     "metadata": {},
     "output_type": "execute_result"
    }
   ],
   "source": [
    "positive_sum(0, 0)"
   ]
  },
  {
   "cell_type": "code",
   "execution_count": 42,
   "metadata": {},
   "outputs": [
    {
     "ename": "ValueError",
     "evalue": "Negative number",
     "output_type": "error",
     "traceback": [
      "\u001b[1;31m---------------------------------------------------------------------------\u001b[0m",
      "\u001b[1;31mValueError\u001b[0m                                Traceback (most recent call last)",
      "\u001b[1;32m<ipython-input-42-b66041c242cb>\u001b[0m in \u001b[0;36m<module>\u001b[1;34m\u001b[0m\n\u001b[1;32m----> 1\u001b[1;33m \u001b[0mpositive_sum\u001b[0m\u001b[1;33m(\u001b[0m\u001b[1;33m-\u001b[0m\u001b[1;36m1\u001b[0m\u001b[1;33m,\u001b[0m \u001b[1;36m2\u001b[0m\u001b[1;33m)\u001b[0m\u001b[1;33m\u001b[0m\u001b[1;33m\u001b[0m\u001b[0m\n\u001b[0m",
      "\u001b[1;32m<ipython-input-39-38a95e743aad>\u001b[0m in \u001b[0;36mpositive_sum\u001b[1;34m(lhs, rhs)\u001b[0m\n\u001b[0;32m      1\u001b[0m \u001b[1;32mdef\u001b[0m \u001b[0mpositive_sum\u001b[0m\u001b[1;33m(\u001b[0m\u001b[0mlhs\u001b[0m\u001b[1;33m,\u001b[0m \u001b[0mrhs\u001b[0m\u001b[1;33m)\u001b[0m\u001b[1;33m:\u001b[0m\u001b[1;33m\u001b[0m\u001b[1;33m\u001b[0m\u001b[0m\n\u001b[0;32m      2\u001b[0m     \u001b[1;32mif\u001b[0m \u001b[0mlhs\u001b[0m \u001b[1;33m<\u001b[0m \u001b[1;36m0\u001b[0m \u001b[1;32mor\u001b[0m \u001b[0mrhs\u001b[0m \u001b[1;33m<\u001b[0m \u001b[1;36m0\u001b[0m\u001b[1;33m:\u001b[0m\u001b[1;33m\u001b[0m\u001b[1;33m\u001b[0m\u001b[0m\n\u001b[1;32m----> 3\u001b[1;33m         \u001b[1;32mraise\u001b[0m \u001b[0mValueError\u001b[0m\u001b[1;33m(\u001b[0m\u001b[1;34m\"Negative number\"\u001b[0m\u001b[1;33m)\u001b[0m\u001b[1;33m\u001b[0m\u001b[1;33m\u001b[0m\u001b[0m\n\u001b[0m\u001b[0;32m      4\u001b[0m     \u001b[1;32melse\u001b[0m\u001b[1;33m:\u001b[0m\u001b[1;33m\u001b[0m\u001b[1;33m\u001b[0m\u001b[0m\n\u001b[0;32m      5\u001b[0m         \u001b[1;32mreturn\u001b[0m \u001b[0mlhs\u001b[0m \u001b[1;33m+\u001b[0m \u001b[0mrhs\u001b[0m\u001b[1;33m\u001b[0m\u001b[1;33m\u001b[0m\u001b[0m\n",
      "\u001b[1;31mValueError\u001b[0m: Negative number"
     ]
    }
   ],
   "source": [
    "positive_sum(-1, 2)"
   ]
  },
  {
   "cell_type": "code",
   "execution_count": 43,
   "metadata": {},
   "outputs": [
    {
     "ename": "ValueError",
     "evalue": "Negative number",
     "output_type": "error",
     "traceback": [
      "\u001b[1;31m---------------------------------------------------------------------------\u001b[0m",
      "\u001b[1;31mValueError\u001b[0m                                Traceback (most recent call last)",
      "\u001b[1;32m<ipython-input-43-2e58096cf0b0>\u001b[0m in \u001b[0;36m<module>\u001b[1;34m\u001b[0m\n\u001b[1;32m----> 1\u001b[1;33m \u001b[0mpositive_sum\u001b[0m\u001b[1;33m(\u001b[0m\u001b[1;36m1\u001b[0m\u001b[1;33m,\u001b[0m \u001b[1;33m-\u001b[0m\u001b[1;36m2\u001b[0m\u001b[1;33m)\u001b[0m\u001b[1;33m\u001b[0m\u001b[1;33m\u001b[0m\u001b[0m\n\u001b[0m",
      "\u001b[1;32m<ipython-input-39-38a95e743aad>\u001b[0m in \u001b[0;36mpositive_sum\u001b[1;34m(lhs, rhs)\u001b[0m\n\u001b[0;32m      1\u001b[0m \u001b[1;32mdef\u001b[0m \u001b[0mpositive_sum\u001b[0m\u001b[1;33m(\u001b[0m\u001b[0mlhs\u001b[0m\u001b[1;33m,\u001b[0m \u001b[0mrhs\u001b[0m\u001b[1;33m)\u001b[0m\u001b[1;33m:\u001b[0m\u001b[1;33m\u001b[0m\u001b[1;33m\u001b[0m\u001b[0m\n\u001b[0;32m      2\u001b[0m     \u001b[1;32mif\u001b[0m \u001b[0mlhs\u001b[0m \u001b[1;33m<\u001b[0m \u001b[1;36m0\u001b[0m \u001b[1;32mor\u001b[0m \u001b[0mrhs\u001b[0m \u001b[1;33m<\u001b[0m \u001b[1;36m0\u001b[0m\u001b[1;33m:\u001b[0m\u001b[1;33m\u001b[0m\u001b[1;33m\u001b[0m\u001b[0m\n\u001b[1;32m----> 3\u001b[1;33m         \u001b[1;32mraise\u001b[0m \u001b[0mValueError\u001b[0m\u001b[1;33m(\u001b[0m\u001b[1;34m\"Negative number\"\u001b[0m\u001b[1;33m)\u001b[0m\u001b[1;33m\u001b[0m\u001b[1;33m\u001b[0m\u001b[0m\n\u001b[0m\u001b[0;32m      4\u001b[0m     \u001b[1;32melse\u001b[0m\u001b[1;33m:\u001b[0m\u001b[1;33m\u001b[0m\u001b[1;33m\u001b[0m\u001b[0m\n\u001b[0;32m      5\u001b[0m         \u001b[1;32mreturn\u001b[0m \u001b[0mlhs\u001b[0m \u001b[1;33m+\u001b[0m \u001b[0mrhs\u001b[0m\u001b[1;33m\u001b[0m\u001b[1;33m\u001b[0m\u001b[0m\n",
      "\u001b[1;31mValueError\u001b[0m: Negative number"
     ]
    }
   ],
   "source": [
    "positive_sum(1, -2)"
   ]
  },
  {
   "cell_type": "markdown",
   "metadata": {},
   "source": [
    "Write a function `print_positive_sum(lhs: int, rhs: int)`, which prints the following text on the screen:\n",
    "\n",
    "- \"The sum of 7 and 3 is 10\" if `lhs` and `rhs` are non-negative numbers (in the example 7 and 3)\n",
    "- \"One of the numbers is negative\" otherwise\n",
    "\n",
    "Use `positive_sum()` to implement `print_positive_sum()`."
   ]
  },
  {
   "cell_type": "code",
   "execution_count": 49,
   "metadata": {},
   "outputs": [],
   "source": [
    "def print_positive_sum(lhs, rhs):\n",
    "    try:\n",
    "        result = positive_sum(lhs, rhs)\n",
    "        print(f\"The sum of {lhs} and {rhs} is {result}.\")\n",
    "    except ValueError:\n",
    "        print(\"One of the numbers is negative.\")"
   ]
  },
  {
   "cell_type": "code",
   "execution_count": 50,
   "metadata": {},
   "outputs": [
    {
     "name": "stdout",
     "output_type": "stream",
     "text": [
      "The sum of 7 and 3 is 10.\n"
     ]
    }
   ],
   "source": [
    "print_positive_sum(7, 3)"
   ]
  },
  {
   "cell_type": "code",
   "execution_count": 51,
   "metadata": {},
   "outputs": [
    {
     "name": "stdout",
     "output_type": "stream",
     "text": [
      "The sum of 0 and 0 is 0.\n"
     ]
    }
   ],
   "source": [
    "print_positive_sum(0, 0)"
   ]
  },
  {
   "cell_type": "code",
   "execution_count": 47,
   "metadata": {},
   "outputs": [
    {
     "name": "stdout",
     "output_type": "stream",
     "text": [
      "One of the numbers is negative.\n"
     ]
    }
   ],
   "source": [
    "print_positive_sum(-1, 2)"
   ]
  },
  {
   "cell_type": "code",
   "execution_count": 48,
   "metadata": {},
   "outputs": [
    {
     "name": "stdout",
     "output_type": "stream",
     "text": [
      "One of the numbers is negative.\n"
     ]
    }
   ],
   "source": [
    "print_positive_sum(2, -1)"
   ]
  },
  {
   "cell_type": "markdown",
   "metadata": {},
   "source": [
    "# Reading and writing to files\n",
    "\n",
    "Write a function `write_text_to_file(text: str, file_ name: str) -> None`, which writes the string `text` into the file `file_name`, if it *does not yet exist* and throws an exception of type `FileExistsError` if the file exists.\n",
    "\n",
    "*Note:* Note the possible values for the `mode` argument of ʻopen()`."
   ]
  },
  {
   "cell_type": "code",
   "execution_count": 52,
   "metadata": {},
   "outputs": [],
   "source": [
    "def write_text_to_file(text, file_name):\n",
    "    with open(file_name, 'x') as file:\n",
    "        file.write(text)"
   ]
  },
  {
   "cell_type": "markdown",
   "metadata": {},
   "source": [
    "Test the function by trying to write the text `Python 3.8` into the file` my-private-file.txt` twice in a row."
   ]
  },
  {
   "cell_type": "code",
   "execution_count": 53,
   "metadata": {},
   "outputs": [],
   "source": [
    "write_text_to_file('Python 3.8', 'my_private_file.txt')"
   ]
  },
  {
   "cell_type": "code",
   "execution_count": 54,
   "metadata": {},
   "outputs": [
    {
     "ename": "FileExistsError",
     "evalue": "[Errno 17] File exists: 'my_private_file.txt'",
     "output_type": "error",
     "traceback": [
      "\u001b[1;31m---------------------------------------------------------------------------\u001b[0m",
      "\u001b[1;31mFileExistsError\u001b[0m                           Traceback (most recent call last)",
      "\u001b[1;32m<ipython-input-54-afdaa65805e3>\u001b[0m in \u001b[0;36m<module>\u001b[1;34m\u001b[0m\n\u001b[1;32m----> 1\u001b[1;33m \u001b[0mwrite_text_to_file\u001b[0m\u001b[1;33m(\u001b[0m\u001b[1;34m'Python 3.8'\u001b[0m\u001b[1;33m,\u001b[0m \u001b[1;34m'my_private_file.txt'\u001b[0m\u001b[1;33m)\u001b[0m\u001b[1;33m\u001b[0m\u001b[1;33m\u001b[0m\u001b[0m\n\u001b[0m",
      "\u001b[1;32m<ipython-input-52-b6d04bc6e4cc>\u001b[0m in \u001b[0;36mwrite_text_to_file\u001b[1;34m(text, file_name)\u001b[0m\n\u001b[0;32m      1\u001b[0m \u001b[1;32mdef\u001b[0m \u001b[0mwrite_text_to_file\u001b[0m\u001b[1;33m(\u001b[0m\u001b[0mtext\u001b[0m\u001b[1;33m,\u001b[0m \u001b[0mfile_name\u001b[0m\u001b[1;33m)\u001b[0m\u001b[1;33m:\u001b[0m\u001b[1;33m\u001b[0m\u001b[1;33m\u001b[0m\u001b[0m\n\u001b[1;32m----> 2\u001b[1;33m     \u001b[1;32mwith\u001b[0m \u001b[0mopen\u001b[0m\u001b[1;33m(\u001b[0m\u001b[0mfile_name\u001b[0m\u001b[1;33m,\u001b[0m \u001b[1;34m'x'\u001b[0m\u001b[1;33m)\u001b[0m \u001b[1;32mas\u001b[0m \u001b[0mfile\u001b[0m\u001b[1;33m:\u001b[0m\u001b[1;33m\u001b[0m\u001b[1;33m\u001b[0m\u001b[0m\n\u001b[0m\u001b[0;32m      3\u001b[0m         \u001b[0mfile\u001b[0m\u001b[1;33m.\u001b[0m\u001b[0mwrite\u001b[0m\u001b[1;33m(\u001b[0m\u001b[0mtext\u001b[0m\u001b[1;33m)\u001b[0m\u001b[1;33m\u001b[0m\u001b[1;33m\u001b[0m\u001b[0m\n",
      "\u001b[1;31mFileExistsError\u001b[0m: [Errno 17] File exists: 'my_private_file.txt'"
     ]
    }
   ],
   "source": [
    "write_text_to_file('Python 3.8', 'my_private_file.txt')"
   ]
  },
  {
   "cell_type": "markdown",
   "metadata": {},
   "source": [
    "Write a function `annotate_file(file_ name: str) -> None` that prints\n",
    "- the content of the file `file_name` followed by the text `(annotated version)` on the screen, if it exists\n",
    "- the text `No file found, we will bill the time we spent searching.` if it does not exist\n",
    "- the text `Our invoice will be sent by mail.` in both cases."
   ]
  },
  {
   "cell_type": "code",
   "execution_count": 55,
   "metadata": {},
   "outputs": [],
   "source": [
    "def annotate_file(file_name):\n",
    "    try:\n",
    "        with open(file_name, 'r') as file:\n",
    "            print(file.read())\n",
    "            print('(annotated version)')\n",
    "    except FileNotFoundError:\n",
    "        print('No file found, we will bill the time we spent searching.')\n",
    "    finally:\n",
    "        print('Our invoice will be sent by mail.')"
   ]
  },
  {
   "cell_type": "code",
   "execution_count": 56,
   "metadata": {},
   "outputs": [
    {
     "name": "stdout",
     "output_type": "stream",
     "text": [
      "Python 3.8\n",
      "(annotated version)\n",
      "Our invoice will be sent by mail.\n"
     ]
    }
   ],
   "source": [
    "annotate_file('my_private_file.txt')"
   ]
  },
  {
   "cell_type": "code",
   "execution_count": 57,
   "metadata": {},
   "outputs": [
    {
     "name": "stdout",
     "output_type": "stream",
     "text": [
      "No file found, we will bill the time we spent searching.\n",
      "Our invoice will be sent by mail.\n"
     ]
    }
   ],
   "source": [
    "annotate_file('does-not-exist.txt')"
   ]
  },
  {
   "cell_type": "markdown",
   "metadata": {},
   "source": [
    "# Rock, Paper, Scissors\n",
    "\n",
    "In this game, two players play against each other. Each of the two players chooses one of the three symbols \"scissors\", \"stone\" or \"paper\" (without knowing the choice of the other player). If both players have chosen the same symbol, the game is a tie. Otherwise:\n",
    "\n",
    "- Scissors beat paper\n",
    "- Paper beats stone\n",
    "- Stone beats scissors\n",
    "\n",
    "Write a function `compare_symbols(player1, player2)`, which displays the following information on the screen:\n",
    "\n",
    "- `Tie`, if both players have chosen the same symbol,\n",
    "- `Player X wins!`, if player X (X = 1 or 2) has won,\n",
    "- `Invalid symbol from player X!`, if player X has entered an invalid symbol."
   ]
  },
  {
   "cell_type": "code",
   "execution_count": 81,
   "metadata": {},
   "outputs": [],
   "source": [
    "def compare_symbols(player1, player2):\n",
    "    if player1 == player2:\n",
    "        print(\"Tie.\")\n",
    "    elif player1 == \"scissors\":\n",
    "        if player2 == \"paper\":\n",
    "            print(\"Player 1 wins!\")\n",
    "        elif player2 == \"rock\":\n",
    "            print(\"Player 2 wins!\")\n",
    "        else:\n",
    "            print(\"Invalid input by player 2!\")\n",
    "    elif player1 == \"paper\":\n",
    "        if player2 == \"rock\":\n",
    "            print(\"Player 1 wins!\")\n",
    "        elif player2 == \"scissors\":\n",
    "            print(\"Player 2 wins!\")\n",
    "        else:\n",
    "            print(\"Invalid input by player 2!\")\n",
    "    elif player1 == \"rock\":\n",
    "        if player2 == \"scissors\":\n",
    "            print(\"Player 1 wins!\")\n",
    "        elif player2 == \"paper\":\n",
    "            print(\"Player 2 wins!\")\n",
    "        else:\n",
    "            print(\"Invalid input by player 2!\")\n",
    "    else:\n",
    "        print(\"Invalid input by player 1!\")"
   ]
  },
  {
   "cell_type": "markdown",
   "metadata": {},
   "source": [
    "Test all possible paths through your function."
   ]
  },
  {
   "cell_type": "code",
   "execution_count": 69,
   "metadata": {},
   "outputs": [
    {
     "name": "stdout",
     "output_type": "stream",
     "text": [
      "Tie.\n"
     ]
    }
   ],
   "source": [
    "compare_symbols(\"paper\", \"paper\")"
   ]
  },
  {
   "cell_type": "code",
   "execution_count": 70,
   "metadata": {},
   "outputs": [
    {
     "name": "stdout",
     "output_type": "stream",
     "text": [
      "Player 1 wins!\n"
     ]
    }
   ],
   "source": [
    "compare_symbols(\"scissors\", \"paper\")"
   ]
  },
  {
   "cell_type": "code",
   "execution_count": 71,
   "metadata": {},
   "outputs": [
    {
     "name": "stdout",
     "output_type": "stream",
     "text": [
      "Player 1 wins!\n"
     ]
    }
   ],
   "source": [
    "compare_symbols(\"paper\", \"rock\")"
   ]
  },
  {
   "cell_type": "code",
   "execution_count": 72,
   "metadata": {},
   "outputs": [
    {
     "name": "stdout",
     "output_type": "stream",
     "text": [
      "Player 1 wins!\n"
     ]
    }
   ],
   "source": [
    "compare_symbols(\"rock\", \"scissors\")"
   ]
  },
  {
   "cell_type": "code",
   "execution_count": 73,
   "metadata": {},
   "outputs": [
    {
     "name": "stdout",
     "output_type": "stream",
     "text": [
      "Player 2 wins!\n"
     ]
    }
   ],
   "source": [
    "compare_symbols(\"paper\", \"scissors\")"
   ]
  },
  {
   "cell_type": "code",
   "execution_count": 74,
   "metadata": {},
   "outputs": [
    {
     "name": "stdout",
     "output_type": "stream",
     "text": [
      "Player 2 wins!\n"
     ]
    }
   ],
   "source": [
    "compare_symbols(\"rock\", \"paper\")"
   ]
  },
  {
   "cell_type": "code",
   "execution_count": 75,
   "metadata": {},
   "outputs": [
    {
     "name": "stdout",
     "output_type": "stream",
     "text": [
      "Player 2 wins!\n"
     ]
    }
   ],
   "source": [
    "compare_symbols(\"scissors\", \"rock\")"
   ]
  },
  {
   "cell_type": "code",
   "execution_count": 76,
   "metadata": {},
   "outputs": [
    {
     "name": "stdout",
     "output_type": "stream",
     "text": [
      "Invalid input by player 1!\n"
     ]
    }
   ],
   "source": [
    "compare_symbols(\"computer\", \"paper\")"
   ]
  },
  {
   "cell_type": "code",
   "execution_count": 77,
   "metadata": {},
   "outputs": [
    {
     "name": "stdout",
     "output_type": "stream",
     "text": [
      "Invalid input by player 2!\n"
     ]
    }
   ],
   "source": [
    "compare_symbols(\"paper\", \"computer\")"
   ]
  },
  {
   "cell_type": "markdown",
   "metadata": {},
   "source": [
    "Write a function `play_a_round_()`, which reads the selection of player 1 and player 2 from the terminal and then displays on the screen who has won.\n",
    "\n",
    "(This is of course not a usable game as player 2 can see what player 1 has chosen.)"
   ]
  },
  {
   "cell_type": "code",
   "execution_count": 78,
   "metadata": {},
   "outputs": [],
   "source": [
    "def play_a_round():\n",
    "    player1 = input(\"Auswahl von player 1: \")\n",
    "    player2 = input(\"Auswahl von player 2: \")\n",
    "    compare_symbols(player1.lower(), player2.lower())"
   ]
  },
  {
   "cell_type": "code",
   "execution_count": 79,
   "metadata": {},
   "outputs": [],
   "source": [
    "# play_a_round()"
   ]
  },
  {
   "cell_type": "markdown",
   "metadata": {},
   "source": [
    "Write a function `evaluate_a_round(player1, player2)`, which evaluates whether the round ended in a draw or whether one of the players won. The function should return the following values:\n",
    "\n",
    "- 0 if the round was a tie\n",
    "- 1 if player 1 wins\n",
    "- 2 if player 2 wins"
   ]
  },
  {
   "cell_type": "code",
   "execution_count": 82,
   "metadata": {},
   "outputs": [],
   "source": [
    "def compare_symbols(player1, player2):\n",
    "    if player1 == player2:\n",
    "        return 0\n",
    "    elif player1 == \"scissors\":\n",
    "        if player2 == \"paper\":\n",
    "            return 1\n",
    "        elif player2 == \"rock\":\n",
    "            return 2\n",
    "        else:\n",
    "            raise ValueError(\"Invalid input by player 2.\")\n",
    "    elif player1 == \"paper\":\n",
    "        if player2 == \"rock\":\n",
    "            return 1\n",
    "        elif player2 == \"scissors\":\n",
    "            return 2\n",
    "        else:\n",
    "            raise ValueError(\"Invalid input by player 2.\")\n",
    "    elif player1 == \"rock\":\n",
    "        if player2 == \"scissors\":\n",
    "            return 1\n",
    "        elif player2 == \"paper\":\n",
    "            return 2\n",
    "        else:\n",
    "            raise ValueError(\"Invalid input by player 2.\")\n",
    "    else:\n",
    "        raise ValueError(\"Invalid input by player 1.\")\n"
   ]
  },
  {
   "cell_type": "markdown",
   "metadata": {},
   "source": [
    "Write a function `play_game()` that lets two players play the game against each other until one player has won 3 games more than the other (e.g. if the first player won 2 games, the second player 5)."
   ]
  },
  {
   "cell_type": "code",
   "execution_count": null,
   "metadata": {},
   "outputs": [],
   "source": []
  }
 ],
 "metadata": {
  "kernelspec": {
   "display_name": "Python 3",
   "language": "python",
   "name": "python3"
  },
  "language_info": {
   "codemirror_mode": {
    "name": "ipython",
    "version": 3
   },
   "file_extension": ".py",
   "mimetype": "text/x-python",
   "name": "python",
   "nbconvert_exporter": "python",
   "pygments_lexer": "ipython3",
   "version": "3.8.6"
  },
  "nbTranslate": {
   "displayLangs": [],
   "hotkey": "alt-t",
   "langInMainMenu": true,
   "sourceLang": "de",
   "targetLang": "en",
   "useGoogleTranslate": true
  }
 },
 "nbformat": 4,
 "nbformat_minor": 4
}
