{
 "cells": [
  {
   "cell_type": "markdown",
   "metadata": {},
   "source": [
    "# Todo-Liste\n",
    "\n",
    "In diesem Workshop wollen wir zum dritten Mal eine Todo-Liste implementieren, aber dabei sowohl die Liste als auch die Einträge durch Instanzen von Klassen darstellen und die Implementierung in den Klassen kapseln.\n",
    "\n",
    "## Grundfunktionalität\n",
    "\n",
    "Jeder Eintrag in der Todo-Liste soll wieder folgende Information enthalten:\n",
    "\n",
    "- Titel\n",
    "- Priorität\n",
    "- Wurde das Item schon erledigt oder nicht?\n",
    "\n",
    "Definieren Sie eine Klasse `TodoItem`, die diese Daten kapselt. \n",
    "\n",
    "Implementieren Sie eine `__init__()`-Methode, die Titel als obligatorisches Argument bekommt. Priorität und \"wurde erledigt\" sollen optionale Parameter mit Weren 1 bzw. `False` sein."
   ]
  },
  {
   "cell_type": "code",
   "execution_count": null,
   "metadata": {
    "pycharm": {
     "name": "#%%\n"
    }
   },
   "outputs": [],
   "source": []
  },
  {
   "cell_type": "markdown",
   "metadata": {},
   "source": [
    "Definieren Sie eine Klasse `TodoList`, die eine Todo-Liste repräsentiert.\n",
    "\n",
    "Implementieren Sie eine `__init__()` Methode, die eine Liste von `TodoItem`-Instanzen als Argument bekommt und speichert.\n",
    "\n",
    "Fügen Sie folgende Methoden hinzu:\n",
    "\n",
    "- `add(self, title: str, priority: int, is_completed: bool)`, die ein neues Todo-Item an die Todo-Liste anhängt und \n",
    "  geeignete Default-Werte für `priority` und `is_completed` übergibt.\n",
    "- `mark_completed(self, title)`, die das erste in der Liste vorkommende Todo-Item mit Titel `title`, das noch nicht bearbeitet ist, als bearbeitet markiert.\n",
    "- `delete(self, title)`, die das erste in der Liste vorkommende Todo-Item mit Titel `title` aus der Liste entfernt.\n",
    "- `delete_all_completed(self)`, die alle beendetend Items aus der Liste entfernt."
   ]
  },
  {
   "cell_type": "code",
   "execution_count": null,
   "metadata": {
    "pycharm": {
     "name": "#%%\n"
    }
   },
   "outputs": [],
   "source": []
  },
  {
   "cell_type": "markdown",
   "metadata": {},
   "source": [
    "Testen Sie die Klassen indem Sie eine Todo-Liste erzeugen und darauf die beschriebenen Operationen anwenden."
   ]
  },
  {
   "cell_type": "code",
   "execution_count": null,
   "metadata": {},
   "outputs": [],
   "source": []
  },
  {
   "cell_type": "markdown",
   "metadata": {},
   "source": [
    "## Dunder-Methoden\n",
    "\n",
    "Erweitern Sie die Klasse `TodoItem` um Methoden `__str__(self)` und `__repr__(self)`, die Instanzen der Klasse in Strings umwandeln."
   ]
  },
  {
   "cell_type": "code",
   "execution_count": null,
   "metadata": {
    "pycharm": {
     "name": "#%%\n"
    }
   },
   "outputs": [],
   "source": []
  },
  {
   "cell_type": "markdown",
   "metadata": {},
   "source": [
    "Erweitern Sie die Klasse `TodoList` um Methoden `__str__(self)` und `__repr__(self)`, die Instanzen der Klasse in Strings umwandeln."
   ]
  },
  {
   "cell_type": "code",
   "execution_count": null,
   "metadata": {
    "pycharm": {
     "name": "#%%\n"
    }
   },
   "outputs": [],
   "source": []
  },
  {
   "cell_type": "markdown",
   "metadata": {},
   "source": [
    "Wiederholen Sie die Tests für die erweiterte Implementierung."
   ]
  },
  {
   "cell_type": "code",
   "execution_count": null,
   "metadata": {},
   "outputs": [],
   "source": []
  }
 ],
 "metadata": {
  "kernelspec": {
   "display_name": "Python 3",
   "language": "python",
   "name": "python3"
  },
  "language_info": {
   "codemirror_mode": {
    "name": "ipython",
    "version": 3
   },
   "file_extension": ".py",
   "mimetype": "text/x-python",
   "name": "python",
   "nbconvert_exporter": "python",
   "pygments_lexer": "ipython3",
   "version": "3.8.3"
  }
 },
 "nbformat": 4,
 "nbformat_minor": 4
}
